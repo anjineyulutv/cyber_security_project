{
 "cells": [
  {
   "cell_type": "markdown",
   "metadata": {},
   "source": [
    "<p style=\"font-size:36px;text-align:center\"> <b>Intrusion Detection System using Machine Learning</b> </p>"
   ]
  },
  {
   "cell_type": "markdown",
   "metadata": {},
   "source": [
    "<h1>Business Problem</h1>"
   ]
  },
  {
   "cell_type": "markdown",
   "metadata": {},
   "source": [
    "<h2>Description</h2>"
   ]
  },
  {
   "cell_type": "markdown",
   "metadata": {},
   "source": [
    "<p>Source:https://www.unb.ca/cic/datasets/nsl.html</p>\n",
    "        \n",
    "<h6> Problem statement : </h6>\n",
    "<p>Given a network connection we should be able to classify it as one of the five classes of attack</p>"
   ]
  },
  {
   "cell_type": "markdown",
   "metadata": {},
   "source": [
    "<h2>Real-world/Business objectives and constraints.</h2>"
   ]
  },
  {
   "cell_type": "markdown",
   "metadata": {},
   "source": [
    "* No low-latency requirement.\n",
    "* Interpretability is important.\n",
    "* Errors can be very costly.\n",
    "* Probability of a data-point belonging to each class is needed."
   ]
  },
  {
   "cell_type": "markdown",
   "metadata": {},
   "source": [
    "<h1>Machine Learning Problem Formulation</h1>"
   ]
  },
  {
   "cell_type": "markdown",
   "metadata": {},
   "source": [
    "<h2>Data</h2>"
   ]
  },
  {
   "cell_type": "markdown",
   "metadata": {},
   "source": [
    "<h3>Data Overview</h3>"
   ]
  },
  {
   "cell_type": "markdown",
   "metadata": {},
   "source": [
    "- Source: https://www.unb.ca/cic/datasets/nsl.html\n",
    "- We have two data files: one conatins the train data and the test data \n",
    "- Both these data files are have a common columns\n",
    "- <p> \n",
    "    Data file's information:\n",
    "    <ul> \n",
    "        <li>\n",
    "         Features:'duration' 'protocol_type' 'service' 'flag' 'src_bytes' 'dst_bytes'\n",
    "        'land' 'wrong_fragment' 'urgent' 'hot' 'num_failed_logins' 'logged_in'\n",
    "        'num_compromised' 'root_shell' 'su_attempted' 'num_root'\n",
    "        'num_file_creations' 'num_shells' 'num_access_files' 'num_outbound_cmds'\n",
    "        'is_host_login' 'is_guest_login' 'count' 'srv_count' 'serror_rate'\n",
    "        'srv_serror_rate' 'rerror_rate' 'srv_rerror_rate' 'same_srv_rate'\n",
    "        'diff_srv_rate' 'srv_diff_host_rate' 'dst_host_count'\n",
    "        'dst_host_srv_count' 'dst_host_same_srv_rate' 'dst_host_diff_srv_rate'\n",
    "        'dst_host_same_src_port_rate' 'dst_host_srv_diff_host_rate'\n",
    "        'dst_host_serror_rate' 'dst_host_srv_serror_rate' 'dst_host_rerror_rate'\n",
    "        'dst_host_srv_rerror_rate' 'attack_type' \n",
    "        </li>\n",
    "    </ul>\n",
    "</p>"
   ]
  },
  {
   "cell_type": "markdown",
   "metadata": {},
   "source": [
    "<h2>Mapping the real-world problem to an ML problem</h2>"
   ]
  },
  {
   "cell_type": "markdown",
   "metadata": {},
   "source": [
    "<h3>Type of Machine Learning Problem</h3>"
   ]
  },
  {
   "cell_type": "markdown",
   "metadata": {},
   "source": [
    "<p>\n",
    "    \n",
    "            There are five different classes of attacksthat a network connection can be classified into => Multi class classification problem\n",
    "   \n",
    "      \n",
    "    \n",
    "</p>"
   ]
  },
  {
   "cell_type": "markdown",
   "metadata": {},
   "source": [
    "<h3>Performance Metric</h3>"
   ]
  },
  {
   "cell_type": "markdown",
   "metadata": {},
   "source": [
    "Metric(s): \n",
    "* Multi class log-loss \n",
    "* Confusion matrix \n",
    "* Precision\n",
    "* Recall"
   ]
  },
  {
   "cell_type": "markdown",
   "metadata": {},
   "source": [
    "<h3>Machine Learing Objectives and Constraints</h3>"
   ]
  },
  {
   "cell_type": "markdown",
   "metadata": {},
   "source": [
    "<p> Objective: Predict the probability of each data-point belonging to each of the five classes.\n",
    "</p>\n",
    "<p> Constraints:\n",
    "</p>\n",
    "* Interpretability\n",
    "* Class probabilities are needed.\n",
    "* Penalize the errors in class probabilites => Metric is Log-loss.\n",
    "* No Latency constraints."
   ]
  },
  {
   "cell_type": "markdown",
   "metadata": {},
   "source": [
    "<h2>Train, CV and Test Datasets</h2>"
   ]
  },
  {
   "cell_type": "markdown",
   "metadata": {},
   "source": [
    "Split the train file dataset randomly into two parts train, cross validation\n",
    "and test file dataset as test data respectively"
   ]
  },
  {
   "cell_type": "code",
   "execution_count": 1,
   "metadata": {},
   "outputs": [],
   "source": [
    "import numpy as np\n",
    "import pandas as pd\n",
    "import matplotlib.pyplot as plt\n",
    "%matplotlib inline\n",
    "from sklearn.preprocessing import LabelEncoder,OneHotEncoder"
   ]
  },
  {
   "cell_type": "code",
   "execution_count": 2,
   "metadata": {},
   "outputs": [
    {
     "name": "stdout",
     "output_type": "stream",
     "text": [
      "Number of data points :  125973\n",
      "Number of features :  43\n",
      "Features :  ['duration' 'protocol_type' 'service' 'flag' 'src_bytes' 'dst_bytes'\n",
      " 'land' 'wrong_fragment' 'urgent' 'hot' 'num_failed_logins' 'logged_in'\n",
      " 'num_compromised' 'root_shell' 'su_attempted' 'num_root'\n",
      " 'num_file_creations' 'num_shells' 'num_access_files' 'num_outbound_cmds'\n",
      " 'is_host_login' 'is_guest_login' 'count' 'srv_count' 'serror_rate'\n",
      " 'srv_serror_rate' 'rerror_rate' 'srv_rerror_rate' 'same_srv_rate'\n",
      " 'diff_srv_rate' 'srv_diff_host_rate' 'dst_host_count'\n",
      " 'dst_host_srv_count' 'dst_host_same_srv_rate' 'dst_host_diff_srv_rate'\n",
      " 'dst_host_same_src_port_rate' 'dst_host_srv_diff_host_rate'\n",
      " 'dst_host_serror_rate' 'dst_host_srv_serror_rate' 'dst_host_rerror_rate'\n",
      " 'dst_host_srv_rerror_rate' 'attack_type' 'dont_know']\n"
     ]
    },
    {
     "data": {
      "text/html": [
       "<div>\n",
       "<style scoped>\n",
       "    .dataframe tbody tr th:only-of-type {\n",
       "        vertical-align: middle;\n",
       "    }\n",
       "\n",
       "    .dataframe tbody tr th {\n",
       "        vertical-align: top;\n",
       "    }\n",
       "\n",
       "    .dataframe thead th {\n",
       "        text-align: right;\n",
       "    }\n",
       "</style>\n",
       "<table border=\"1\" class=\"dataframe\">\n",
       "  <thead>\n",
       "    <tr style=\"text-align: right;\">\n",
       "      <th></th>\n",
       "      <th>duration</th>\n",
       "      <th>protocol_type</th>\n",
       "      <th>service</th>\n",
       "      <th>flag</th>\n",
       "      <th>src_bytes</th>\n",
       "      <th>dst_bytes</th>\n",
       "      <th>land</th>\n",
       "      <th>wrong_fragment</th>\n",
       "      <th>urgent</th>\n",
       "      <th>hot</th>\n",
       "      <th>...</th>\n",
       "      <th>dst_host_same_srv_rate</th>\n",
       "      <th>dst_host_diff_srv_rate</th>\n",
       "      <th>dst_host_same_src_port_rate</th>\n",
       "      <th>dst_host_srv_diff_host_rate</th>\n",
       "      <th>dst_host_serror_rate</th>\n",
       "      <th>dst_host_srv_serror_rate</th>\n",
       "      <th>dst_host_rerror_rate</th>\n",
       "      <th>dst_host_srv_rerror_rate</th>\n",
       "      <th>attack_type</th>\n",
       "      <th>dont_know</th>\n",
       "    </tr>\n",
       "  </thead>\n",
       "  <tbody>\n",
       "    <tr>\n",
       "      <th>0</th>\n",
       "      <td>0</td>\n",
       "      <td>tcp</td>\n",
       "      <td>ftp_data</td>\n",
       "      <td>SF</td>\n",
       "      <td>491</td>\n",
       "      <td>0</td>\n",
       "      <td>0</td>\n",
       "      <td>0</td>\n",
       "      <td>0</td>\n",
       "      <td>0</td>\n",
       "      <td>...</td>\n",
       "      <td>0.17</td>\n",
       "      <td>0.03</td>\n",
       "      <td>0.17</td>\n",
       "      <td>0.00</td>\n",
       "      <td>0.00</td>\n",
       "      <td>0.00</td>\n",
       "      <td>0.05</td>\n",
       "      <td>0.00</td>\n",
       "      <td>normal</td>\n",
       "      <td>20</td>\n",
       "    </tr>\n",
       "    <tr>\n",
       "      <th>1</th>\n",
       "      <td>0</td>\n",
       "      <td>udp</td>\n",
       "      <td>other</td>\n",
       "      <td>SF</td>\n",
       "      <td>146</td>\n",
       "      <td>0</td>\n",
       "      <td>0</td>\n",
       "      <td>0</td>\n",
       "      <td>0</td>\n",
       "      <td>0</td>\n",
       "      <td>...</td>\n",
       "      <td>0.00</td>\n",
       "      <td>0.60</td>\n",
       "      <td>0.88</td>\n",
       "      <td>0.00</td>\n",
       "      <td>0.00</td>\n",
       "      <td>0.00</td>\n",
       "      <td>0.00</td>\n",
       "      <td>0.00</td>\n",
       "      <td>normal</td>\n",
       "      <td>15</td>\n",
       "    </tr>\n",
       "    <tr>\n",
       "      <th>2</th>\n",
       "      <td>0</td>\n",
       "      <td>tcp</td>\n",
       "      <td>private</td>\n",
       "      <td>S0</td>\n",
       "      <td>0</td>\n",
       "      <td>0</td>\n",
       "      <td>0</td>\n",
       "      <td>0</td>\n",
       "      <td>0</td>\n",
       "      <td>0</td>\n",
       "      <td>...</td>\n",
       "      <td>0.10</td>\n",
       "      <td>0.05</td>\n",
       "      <td>0.00</td>\n",
       "      <td>0.00</td>\n",
       "      <td>1.00</td>\n",
       "      <td>1.00</td>\n",
       "      <td>0.00</td>\n",
       "      <td>0.00</td>\n",
       "      <td>neptune</td>\n",
       "      <td>19</td>\n",
       "    </tr>\n",
       "    <tr>\n",
       "      <th>3</th>\n",
       "      <td>0</td>\n",
       "      <td>tcp</td>\n",
       "      <td>http</td>\n",
       "      <td>SF</td>\n",
       "      <td>232</td>\n",
       "      <td>8153</td>\n",
       "      <td>0</td>\n",
       "      <td>0</td>\n",
       "      <td>0</td>\n",
       "      <td>0</td>\n",
       "      <td>...</td>\n",
       "      <td>1.00</td>\n",
       "      <td>0.00</td>\n",
       "      <td>0.03</td>\n",
       "      <td>0.04</td>\n",
       "      <td>0.03</td>\n",
       "      <td>0.01</td>\n",
       "      <td>0.00</td>\n",
       "      <td>0.01</td>\n",
       "      <td>normal</td>\n",
       "      <td>21</td>\n",
       "    </tr>\n",
       "    <tr>\n",
       "      <th>4</th>\n",
       "      <td>0</td>\n",
       "      <td>tcp</td>\n",
       "      <td>http</td>\n",
       "      <td>SF</td>\n",
       "      <td>199</td>\n",
       "      <td>420</td>\n",
       "      <td>0</td>\n",
       "      <td>0</td>\n",
       "      <td>0</td>\n",
       "      <td>0</td>\n",
       "      <td>...</td>\n",
       "      <td>1.00</td>\n",
       "      <td>0.00</td>\n",
       "      <td>0.00</td>\n",
       "      <td>0.00</td>\n",
       "      <td>0.00</td>\n",
       "      <td>0.00</td>\n",
       "      <td>0.00</td>\n",
       "      <td>0.00</td>\n",
       "      <td>normal</td>\n",
       "      <td>21</td>\n",
       "    </tr>\n",
       "  </tbody>\n",
       "</table>\n",
       "<p>5 rows × 43 columns</p>\n",
       "</div>"
      ],
      "text/plain": [
       "   duration protocol_type   service flag  src_bytes  dst_bytes  land  \\\n",
       "0         0           tcp  ftp_data   SF        491          0     0   \n",
       "1         0           udp     other   SF        146          0     0   \n",
       "2         0           tcp   private   S0          0          0     0   \n",
       "3         0           tcp      http   SF        232       8153     0   \n",
       "4         0           tcp      http   SF        199        420     0   \n",
       "\n",
       "   wrong_fragment  urgent  hot    ...      dst_host_same_srv_rate  \\\n",
       "0               0       0    0    ...                        0.17   \n",
       "1               0       0    0    ...                        0.00   \n",
       "2               0       0    0    ...                        0.10   \n",
       "3               0       0    0    ...                        1.00   \n",
       "4               0       0    0    ...                        1.00   \n",
       "\n",
       "   dst_host_diff_srv_rate  dst_host_same_src_port_rate  \\\n",
       "0                    0.03                         0.17   \n",
       "1                    0.60                         0.88   \n",
       "2                    0.05                         0.00   \n",
       "3                    0.00                         0.03   \n",
       "4                    0.00                         0.00   \n",
       "\n",
       "   dst_host_srv_diff_host_rate  dst_host_serror_rate  \\\n",
       "0                         0.00                  0.00   \n",
       "1                         0.00                  0.00   \n",
       "2                         0.00                  1.00   \n",
       "3                         0.04                  0.03   \n",
       "4                         0.00                  0.00   \n",
       "\n",
       "   dst_host_srv_serror_rate  dst_host_rerror_rate  dst_host_srv_rerror_rate  \\\n",
       "0                      0.00                  0.05                      0.00   \n",
       "1                      0.00                  0.00                      0.00   \n",
       "2                      1.00                  0.00                      0.00   \n",
       "3                      0.01                  0.00                      0.01   \n",
       "4                      0.00                  0.00                      0.00   \n",
       "\n",
       "   attack_type  dont_know  \n",
       "0       normal         20  \n",
       "1       normal         15  \n",
       "2      neptune         19  \n",
       "3       normal         21  \n",
       "4       normal         21  \n",
       "\n",
       "[5 rows x 43 columns]"
      ]
     },
     "execution_count": 2,
     "metadata": {},
     "output_type": "execute_result"
    }
   ],
   "source": [
    "import pandas as pd\n",
    "df = pd.read_csv(r'C:\\Users\\anjineyulu\\Desktop\\amazon_fine_food_reviews\\KDDTrain+.csv', header=None)\n",
    "df.rename(columns={0: 'duration', 1: 'protocol_type',2:'service',3:'flag',4:'src_bytes',5:'dst_bytes',6:'land',7:'wrong_fragment',8:'urgent',9:'hot',10:'num_failed_logins',11:'logged_in',12:'num_compromised',13: 'root_shell', 14: 'su_attempted',15:'num_root',16:'num_file_creations',17:'num_shells',18:'num_access_files',19:'num_outbound_cmds',20:'is_host_login',21:'is_guest_login',22:'count',23:'srv_count',24:'serror_rate',25:'srv_serror_rate',26:'rerror_rate',27:'srv_rerror_rate',28:'same_srv_rate',29:'diff_srv_rate',30:'srv_diff_host_rate',31:'dst_host_count',32:'dst_host_srv_count',33:'dst_host_same_srv_rate',34:'dst_host_diff_srv_rate',35: 'dst_host_same_src_port_rate', 36: 'dst_host_srv_diff_host_rate',37:'dst_host_serror_rate',38:'dst_host_srv_serror_rate',39:'dst_host_rerror_rate',40:'dst_host_srv_rerror_rate',41:'attack_type',42:'dont_know'}, inplace=True)\n",
    "df.to_csv('train_with_col.csv', index=False) # save to new csv file\n",
    "print('Number of data points : ', df.shape[0])\n",
    "print('Number of features : ', df.shape[1])\n",
    "print('Features : ', df.columns.values)\n",
    "df.head()"
   ]
  },
  {
   "cell_type": "code",
   "execution_count": 3,
   "metadata": {},
   "outputs": [],
   "source": [
    "df.drop('dont_know',axis=1,inplace=True)"
   ]
  },
  {
   "cell_type": "code",
   "execution_count": 4,
   "metadata": {},
   "outputs": [
    {
     "name": "stdout",
     "output_type": "stream",
     "text": [
      "Number of data points :  22544\n",
      "Number of features :  43\n",
      "Features :  ['duration' 'protocol_type' 'service' 'flag' 'src_bytes' 'dst_bytes'\n",
      " 'land' 'wrong_fragment' 'urgent' 'hot' 'num_failed_logins' 'logged_in'\n",
      " 'num_compromised' 'root_shell' 'su_attempted' 'num_root'\n",
      " 'num_file_creations' 'num_shells' 'num_access_files' 'num_outbound_cmds'\n",
      " 'is_host_login' 'is_guest_login' 'count' 'srv_count' 'serror_rate'\n",
      " 'srv_serror_rate' 'rerror_rate' 'srv_rerror_rate' 'same_srv_rate'\n",
      " 'diff_srv_rate' 'srv_diff_host_rate' 'dst_host_count'\n",
      " 'dst_host_srv_count' 'dst_host_same_srv_rate' 'dst_host_diff_srv_rate'\n",
      " 'dst_host_same_src_port_rate' 'dst_host_srv_diff_host_rate'\n",
      " 'dst_host_serror_rate' 'dst_host_srv_serror_rate' 'dst_host_rerror_rate'\n",
      " 'dst_host_srv_rerror_rate' 'attack_type' 'dont_know']\n"
     ]
    },
    {
     "data": {
      "text/html": [
       "<div>\n",
       "<style scoped>\n",
       "    .dataframe tbody tr th:only-of-type {\n",
       "        vertical-align: middle;\n",
       "    }\n",
       "\n",
       "    .dataframe tbody tr th {\n",
       "        vertical-align: top;\n",
       "    }\n",
       "\n",
       "    .dataframe thead th {\n",
       "        text-align: right;\n",
       "    }\n",
       "</style>\n",
       "<table border=\"1\" class=\"dataframe\">\n",
       "  <thead>\n",
       "    <tr style=\"text-align: right;\">\n",
       "      <th></th>\n",
       "      <th>duration</th>\n",
       "      <th>protocol_type</th>\n",
       "      <th>service</th>\n",
       "      <th>flag</th>\n",
       "      <th>src_bytes</th>\n",
       "      <th>dst_bytes</th>\n",
       "      <th>land</th>\n",
       "      <th>wrong_fragment</th>\n",
       "      <th>urgent</th>\n",
       "      <th>hot</th>\n",
       "      <th>...</th>\n",
       "      <th>dst_host_same_srv_rate</th>\n",
       "      <th>dst_host_diff_srv_rate</th>\n",
       "      <th>dst_host_same_src_port_rate</th>\n",
       "      <th>dst_host_srv_diff_host_rate</th>\n",
       "      <th>dst_host_serror_rate</th>\n",
       "      <th>dst_host_srv_serror_rate</th>\n",
       "      <th>dst_host_rerror_rate</th>\n",
       "      <th>dst_host_srv_rerror_rate</th>\n",
       "      <th>attack_type</th>\n",
       "      <th>dont_know</th>\n",
       "    </tr>\n",
       "  </thead>\n",
       "  <tbody>\n",
       "    <tr>\n",
       "      <th>0</th>\n",
       "      <td>0</td>\n",
       "      <td>tcp</td>\n",
       "      <td>private</td>\n",
       "      <td>REJ</td>\n",
       "      <td>0</td>\n",
       "      <td>0</td>\n",
       "      <td>0</td>\n",
       "      <td>0</td>\n",
       "      <td>0</td>\n",
       "      <td>0</td>\n",
       "      <td>...</td>\n",
       "      <td>0.04</td>\n",
       "      <td>0.06</td>\n",
       "      <td>0.00</td>\n",
       "      <td>0.00</td>\n",
       "      <td>0.0</td>\n",
       "      <td>0.0</td>\n",
       "      <td>1.00</td>\n",
       "      <td>1.00</td>\n",
       "      <td>neptune</td>\n",
       "      <td>21</td>\n",
       "    </tr>\n",
       "    <tr>\n",
       "      <th>1</th>\n",
       "      <td>0</td>\n",
       "      <td>tcp</td>\n",
       "      <td>private</td>\n",
       "      <td>REJ</td>\n",
       "      <td>0</td>\n",
       "      <td>0</td>\n",
       "      <td>0</td>\n",
       "      <td>0</td>\n",
       "      <td>0</td>\n",
       "      <td>0</td>\n",
       "      <td>...</td>\n",
       "      <td>0.00</td>\n",
       "      <td>0.06</td>\n",
       "      <td>0.00</td>\n",
       "      <td>0.00</td>\n",
       "      <td>0.0</td>\n",
       "      <td>0.0</td>\n",
       "      <td>1.00</td>\n",
       "      <td>1.00</td>\n",
       "      <td>neptune</td>\n",
       "      <td>21</td>\n",
       "    </tr>\n",
       "    <tr>\n",
       "      <th>2</th>\n",
       "      <td>2</td>\n",
       "      <td>tcp</td>\n",
       "      <td>ftp_data</td>\n",
       "      <td>SF</td>\n",
       "      <td>12983</td>\n",
       "      <td>0</td>\n",
       "      <td>0</td>\n",
       "      <td>0</td>\n",
       "      <td>0</td>\n",
       "      <td>0</td>\n",
       "      <td>...</td>\n",
       "      <td>0.61</td>\n",
       "      <td>0.04</td>\n",
       "      <td>0.61</td>\n",
       "      <td>0.02</td>\n",
       "      <td>0.0</td>\n",
       "      <td>0.0</td>\n",
       "      <td>0.00</td>\n",
       "      <td>0.00</td>\n",
       "      <td>normal</td>\n",
       "      <td>21</td>\n",
       "    </tr>\n",
       "    <tr>\n",
       "      <th>3</th>\n",
       "      <td>0</td>\n",
       "      <td>icmp</td>\n",
       "      <td>eco_i</td>\n",
       "      <td>SF</td>\n",
       "      <td>20</td>\n",
       "      <td>0</td>\n",
       "      <td>0</td>\n",
       "      <td>0</td>\n",
       "      <td>0</td>\n",
       "      <td>0</td>\n",
       "      <td>...</td>\n",
       "      <td>1.00</td>\n",
       "      <td>0.00</td>\n",
       "      <td>1.00</td>\n",
       "      <td>0.28</td>\n",
       "      <td>0.0</td>\n",
       "      <td>0.0</td>\n",
       "      <td>0.00</td>\n",
       "      <td>0.00</td>\n",
       "      <td>saint</td>\n",
       "      <td>15</td>\n",
       "    </tr>\n",
       "    <tr>\n",
       "      <th>4</th>\n",
       "      <td>1</td>\n",
       "      <td>tcp</td>\n",
       "      <td>telnet</td>\n",
       "      <td>RSTO</td>\n",
       "      <td>0</td>\n",
       "      <td>15</td>\n",
       "      <td>0</td>\n",
       "      <td>0</td>\n",
       "      <td>0</td>\n",
       "      <td>0</td>\n",
       "      <td>...</td>\n",
       "      <td>0.31</td>\n",
       "      <td>0.17</td>\n",
       "      <td>0.03</td>\n",
       "      <td>0.02</td>\n",
       "      <td>0.0</td>\n",
       "      <td>0.0</td>\n",
       "      <td>0.83</td>\n",
       "      <td>0.71</td>\n",
       "      <td>mscan</td>\n",
       "      <td>11</td>\n",
       "    </tr>\n",
       "  </tbody>\n",
       "</table>\n",
       "<p>5 rows × 43 columns</p>\n",
       "</div>"
      ],
      "text/plain": [
       "   duration protocol_type   service  flag  src_bytes  dst_bytes  land  \\\n",
       "0         0           tcp   private   REJ          0          0     0   \n",
       "1         0           tcp   private   REJ          0          0     0   \n",
       "2         2           tcp  ftp_data    SF      12983          0     0   \n",
       "3         0          icmp     eco_i    SF         20          0     0   \n",
       "4         1           tcp    telnet  RSTO          0         15     0   \n",
       "\n",
       "   wrong_fragment  urgent  hot    ...      dst_host_same_srv_rate  \\\n",
       "0               0       0    0    ...                        0.04   \n",
       "1               0       0    0    ...                        0.00   \n",
       "2               0       0    0    ...                        0.61   \n",
       "3               0       0    0    ...                        1.00   \n",
       "4               0       0    0    ...                        0.31   \n",
       "\n",
       "   dst_host_diff_srv_rate  dst_host_same_src_port_rate  \\\n",
       "0                    0.06                         0.00   \n",
       "1                    0.06                         0.00   \n",
       "2                    0.04                         0.61   \n",
       "3                    0.00                         1.00   \n",
       "4                    0.17                         0.03   \n",
       "\n",
       "   dst_host_srv_diff_host_rate  dst_host_serror_rate  \\\n",
       "0                         0.00                   0.0   \n",
       "1                         0.00                   0.0   \n",
       "2                         0.02                   0.0   \n",
       "3                         0.28                   0.0   \n",
       "4                         0.02                   0.0   \n",
       "\n",
       "   dst_host_srv_serror_rate  dst_host_rerror_rate  dst_host_srv_rerror_rate  \\\n",
       "0                       0.0                  1.00                      1.00   \n",
       "1                       0.0                  1.00                      1.00   \n",
       "2                       0.0                  0.00                      0.00   \n",
       "3                       0.0                  0.00                      0.00   \n",
       "4                       0.0                  0.83                      0.71   \n",
       "\n",
       "   attack_type  dont_know  \n",
       "0      neptune         21  \n",
       "1      neptune         21  \n",
       "2       normal         21  \n",
       "3        saint         15  \n",
       "4        mscan         11  \n",
       "\n",
       "[5 rows x 43 columns]"
      ]
     },
     "execution_count": 4,
     "metadata": {},
     "output_type": "execute_result"
    }
   ],
   "source": [
    "import pandas as pd\n",
    "test_df = pd.read_csv(r'C:\\Users\\anjineyulu\\Desktop\\amazon_fine_food_reviews\\KDDTest+.csv', header=None)\n",
    "test_df.rename(columns={0: 'duration', 1: 'protocol_type',2:'service',3:'flag',4:'src_bytes',5:'dst_bytes',6:'land',7:'wrong_fragment',8:'urgent',9:'hot',10:'num_failed_logins',11:'logged_in',12:'num_compromised',13: 'root_shell', 14: 'su_attempted',15:'num_root',16:'num_file_creations',17:'num_shells',18:'num_access_files',19:'num_outbound_cmds',20:'is_host_login',21:'is_guest_login',22:'count',23:'srv_count',24:'serror_rate',25:'srv_serror_rate',26:'rerror_rate',27:'srv_rerror_rate',28:'same_srv_rate',29:'diff_srv_rate',30:'srv_diff_host_rate',31:'dst_host_count',32:'dst_host_srv_count',33:'dst_host_same_srv_rate',34:'dst_host_diff_srv_rate',35: 'dst_host_same_src_port_rate', 36: 'dst_host_srv_diff_host_rate',37:'dst_host_serror_rate',38:'dst_host_srv_serror_rate',39:'dst_host_rerror_rate',40:'dst_host_srv_rerror_rate',41:'attack_type',42:'dont_know'}, inplace=True)\n",
    "test_df.to_csv('test_with_col.csv', index=False) # save to new csv file\n",
    "print('Number of data points : ', test_df.shape[0])\n",
    "print('Number of features : ', test_df.shape[1])\n",
    "print('Features : ', test_df.columns.values)\n",
    "test_df.head()"
   ]
  },
  {
   "cell_type": "code",
   "execution_count": 5,
   "metadata": {},
   "outputs": [],
   "source": [
    "test_df.drop('dont_know',axis=1,inplace=True)"
   ]
  },
  {
   "cell_type": "code",
   "execution_count": 6,
   "metadata": {},
   "outputs": [],
   "source": [
    "df.rename(columns={'attack_type':'label'},inplace=True)"
   ]
  },
  {
   "cell_type": "code",
   "execution_count": 7,
   "metadata": {},
   "outputs": [],
   "source": [
    "test_df.rename(columns={'attack_type':'label'},inplace=True)"
   ]
  },
  {
   "cell_type": "code",
   "execution_count": 8,
   "metadata": {},
   "outputs": [],
   "source": [
    "df_categorical_variables_train =df[['protocol_type','service','flag']]\n",
    "df_categorical_variables_test =test_df[['protocol_type','service','flag']]"
   ]
  },
  {
   "cell_type": "code",
   "execution_count": 9,
   "metadata": {},
   "outputs": [
    {
     "data": {
      "text/html": [
       "<div>\n",
       "<style scoped>\n",
       "    .dataframe tbody tr th:only-of-type {\n",
       "        vertical-align: middle;\n",
       "    }\n",
       "\n",
       "    .dataframe tbody tr th {\n",
       "        vertical-align: top;\n",
       "    }\n",
       "\n",
       "    .dataframe thead th {\n",
       "        text-align: right;\n",
       "    }\n",
       "</style>\n",
       "<table border=\"1\" class=\"dataframe\">\n",
       "  <thead>\n",
       "    <tr style=\"text-align: right;\">\n",
       "      <th></th>\n",
       "      <th>protocol_type</th>\n",
       "      <th>service</th>\n",
       "      <th>flag</th>\n",
       "    </tr>\n",
       "  </thead>\n",
       "  <tbody>\n",
       "    <tr>\n",
       "      <th>0</th>\n",
       "      <td>tcp</td>\n",
       "      <td>ftp_data</td>\n",
       "      <td>SF</td>\n",
       "    </tr>\n",
       "    <tr>\n",
       "      <th>1</th>\n",
       "      <td>udp</td>\n",
       "      <td>other</td>\n",
       "      <td>SF</td>\n",
       "    </tr>\n",
       "    <tr>\n",
       "      <th>2</th>\n",
       "      <td>tcp</td>\n",
       "      <td>private</td>\n",
       "      <td>S0</td>\n",
       "    </tr>\n",
       "    <tr>\n",
       "      <th>3</th>\n",
       "      <td>tcp</td>\n",
       "      <td>http</td>\n",
       "      <td>SF</td>\n",
       "    </tr>\n",
       "    <tr>\n",
       "      <th>4</th>\n",
       "      <td>tcp</td>\n",
       "      <td>http</td>\n",
       "      <td>SF</td>\n",
       "    </tr>\n",
       "  </tbody>\n",
       "</table>\n",
       "</div>"
      ],
      "text/plain": [
       "  protocol_type   service flag\n",
       "0           tcp  ftp_data   SF\n",
       "1           udp     other   SF\n",
       "2           tcp   private   S0\n",
       "3           tcp      http   SF\n",
       "4           tcp      http   SF"
      ]
     },
     "execution_count": 9,
     "metadata": {},
     "output_type": "execute_result"
    }
   ],
   "source": [
    "df_categorical_variables_train.head(5)"
   ]
  },
  {
   "cell_type": "code",
   "execution_count": 10,
   "metadata": {},
   "outputs": [
    {
     "name": "stdout",
     "output_type": "stream",
     "text": [
      "(125973, 42)\n",
      "(22544, 42)\n"
     ]
    }
   ],
   "source": [
    "print(df.shape)\n",
    "print(test_df.shape)"
   ]
  },
  {
   "cell_type": "code",
   "execution_count": 11,
   "metadata": {},
   "outputs": [],
   "source": [
    "df_cat_en=OneHotEncoder().fit_transform(df_categorical_variables_train)"
   ]
  },
  {
   "cell_type": "code",
   "execution_count": 12,
   "metadata": {},
   "outputs": [],
   "source": [
    "test_df_cat_en=OneHotEncoder().fit_transform(df_categorical_variables_test)"
   ]
  },
  {
   "cell_type": "code",
   "execution_count": 13,
   "metadata": {},
   "outputs": [],
   "source": [
    "protocol_types=sorted(df.protocol_type.unique())\n",
    "service_types=sorted(df.service.unique())\n",
    "flag_types=sorted(df.flag.unique())"
   ]
  },
  {
   "cell_type": "code",
   "execution_count": 14,
   "metadata": {},
   "outputs": [
    {
     "data": {
      "text/plain": [
       "11"
      ]
     },
     "execution_count": 14,
     "metadata": {},
     "output_type": "execute_result"
    }
   ],
   "source": [
    "len(flag_types)"
   ]
  },
  {
   "cell_type": "code",
   "execution_count": 15,
   "metadata": {},
   "outputs": [
    {
     "data": {
      "text/plain": [
       "11"
      ]
     },
     "execution_count": 15,
     "metadata": {},
     "output_type": "execute_result"
    }
   ],
   "source": [
    "test_flag_types=sorted(test_df.flag.unique())\n",
    "len(test_flag_types)"
   ]
  },
  {
   "cell_type": "code",
   "execution_count": 16,
   "metadata": {},
   "outputs": [
    {
     "name": "stdout",
     "output_type": "stream",
     "text": [
      "3\n",
      "['icmp', 'tcp', 'udp']\n"
     ]
    }
   ],
   "source": [
    "print(len(protocol_types))\n",
    "test_protocol_types=sorted(test_df.protocol_type.unique())\n",
    "print(test_protocol_types)"
   ]
  },
  {
   "cell_type": "code",
   "execution_count": 17,
   "metadata": {},
   "outputs": [
    {
     "data": {
      "text/plain": [
       "70"
      ]
     },
     "execution_count": 17,
     "metadata": {},
     "output_type": "execute_result"
    }
   ],
   "source": [
    "len(service_types)"
   ]
  },
  {
   "cell_type": "code",
   "execution_count": 18,
   "metadata": {},
   "outputs": [],
   "source": [
    "string_prot='protocol_'\n",
    "protocol_cat_names=[string_prot+i for i in protocol_types]\n",
    "string_service='service_'\n",
    "service_cat_names=[string_service+i for i in service_types]\n",
    "string_flag='flag'\n",
    "flag_cat_names=[string_flag+i for i in flag_types]"
   ]
  },
  {
   "cell_type": "code",
   "execution_count": 19,
   "metadata": {},
   "outputs": [],
   "source": [
    "service_types_test=sorted(test_df.service.unique())\n",
    "service_cat_names_test=[string_service+i for i in service_types_test]"
   ]
  },
  {
   "cell_type": "code",
   "execution_count": 20,
   "metadata": {},
   "outputs": [],
   "source": [
    "train_cols=protocol_cat_names+service_cat_names+flag_cat_names\n",
    "test_cols=protocol_cat_names+service_cat_names_test+flag_cat_names"
   ]
  },
  {
   "cell_type": "code",
   "execution_count": 21,
   "metadata": {},
   "outputs": [
    {
     "name": "stdout",
     "output_type": "stream",
     "text": [
      "84\n",
      "78\n"
     ]
    }
   ],
   "source": [
    "print(len(train_cols))\n",
    "print(len(test_cols))"
   ]
  },
  {
   "cell_type": "code",
   "execution_count": 22,
   "metadata": {},
   "outputs": [
    {
     "data": {
      "text/plain": [
       "84"
      ]
     },
     "execution_count": 22,
     "metadata": {},
     "output_type": "execute_result"
    }
   ],
   "source": [
    "len(train_cols)"
   ]
  },
  {
   "cell_type": "code",
   "execution_count": 23,
   "metadata": {},
   "outputs": [
    {
     "data": {
      "text/plain": [
       "78"
      ]
     },
     "execution_count": 23,
     "metadata": {},
     "output_type": "execute_result"
    }
   ],
   "source": [
    "len(test_cols)"
   ]
  },
  {
   "cell_type": "code",
   "execution_count": 24,
   "metadata": {},
   "outputs": [],
   "source": [
    "df_categorical_data=pd.DataFrame(df_cat_en.toarray(),columns=train_cols)\n",
    "test_df_categorical_data=pd.DataFrame(test_df_cat_en.toarray(),columns=test_cols)"
   ]
  },
  {
   "cell_type": "code",
   "execution_count": 25,
   "metadata": {},
   "outputs": [],
   "source": [
    "train_s=df['service'].tolist()\n",
    "test_s=test_df['service'].tolist()\n",
    "difference=list(set(train_s)-set(test_s))"
   ]
  },
  {
   "cell_type": "code",
   "execution_count": 26,
   "metadata": {},
   "outputs": [
    {
     "data": {
      "text/plain": [
       "['aol', 'red_i', 'http_2784', 'http_8001', 'urh_i', 'harvest']"
      ]
     },
     "execution_count": 26,
     "metadata": {},
     "output_type": "execute_result"
    }
   ],
   "source": [
    "difference"
   ]
  },
  {
   "cell_type": "code",
   "execution_count": 27,
   "metadata": {},
   "outputs": [],
   "source": [
    "service_extra='service_'\n",
    "difference=[service_extra+i for i in difference]"
   ]
  },
  {
   "cell_type": "code",
   "execution_count": 28,
   "metadata": {},
   "outputs": [],
   "source": [
    "for i in difference:\n",
    "    test_df_categorical_data[i]=0"
   ]
  },
  {
   "cell_type": "code",
   "execution_count": 29,
   "metadata": {},
   "outputs": [
    {
     "data": {
      "text/plain": [
       "(22544, 84)"
      ]
     },
     "execution_count": 29,
     "metadata": {},
     "output_type": "execute_result"
    }
   ],
   "source": [
    "test_df_categorical_data.shape"
   ]
  },
  {
   "cell_type": "code",
   "execution_count": 30,
   "metadata": {},
   "outputs": [
    {
     "data": {
      "text/plain": [
       "(125973, 84)"
      ]
     },
     "execution_count": 30,
     "metadata": {},
     "output_type": "execute_result"
    }
   ],
   "source": [
    "df_categorical_data.shape"
   ]
  },
  {
   "cell_type": "code",
   "execution_count": null,
   "metadata": {},
   "outputs": [],
   "source": []
  },
  {
   "cell_type": "code",
   "execution_count": 31,
   "metadata": {},
   "outputs": [],
   "source": [
    "df=df.join(df_categorical_data)\n",
    "test_df=test_df.join(test_df_categorical_data)"
   ]
  },
  {
   "cell_type": "code",
   "execution_count": 32,
   "metadata": {},
   "outputs": [],
   "source": [
    "df.drop('protocol_type',axis=1,inplace=True)\n",
    "df.drop('service',axis=1,inplace=True)\n",
    "df.drop('flag',axis=1,inplace=True)"
   ]
  },
  {
   "cell_type": "code",
   "execution_count": 33,
   "metadata": {},
   "outputs": [],
   "source": [
    "test_df.drop('protocol_type',axis=1,inplace=True)\n",
    "test_df.drop('service',axis=1,inplace=True)\n",
    "test_df.drop('flag',axis=1,inplace=True)"
   ]
  },
  {
   "cell_type": "code",
   "execution_count": 34,
   "metadata": {},
   "outputs": [
    {
     "name": "stdout",
     "output_type": "stream",
     "text": [
      "(125973, 123)\n",
      "(22544, 123)\n"
     ]
    }
   ],
   "source": [
    "print(df.shape)\n",
    "print(test_df.shape)"
   ]
  },
  {
   "cell_type": "code",
   "execution_count": 35,
   "metadata": {},
   "outputs": [
    {
     "data": {
      "text/plain": [
       "array(['duration', 'src_bytes', 'dst_bytes', 'land', 'wrong_fragment',\n",
       "       'urgent', 'hot', 'num_failed_logins', 'logged_in',\n",
       "       'num_compromised', 'root_shell', 'su_attempted', 'num_root',\n",
       "       'num_file_creations', 'num_shells', 'num_access_files',\n",
       "       'num_outbound_cmds', 'is_host_login', 'is_guest_login', 'count',\n",
       "       'srv_count', 'serror_rate', 'srv_serror_rate', 'rerror_rate',\n",
       "       'srv_rerror_rate', 'same_srv_rate', 'diff_srv_rate',\n",
       "       'srv_diff_host_rate', 'dst_host_count', 'dst_host_srv_count',\n",
       "       'dst_host_same_srv_rate', 'dst_host_diff_srv_rate',\n",
       "       'dst_host_same_src_port_rate', 'dst_host_srv_diff_host_rate',\n",
       "       'dst_host_serror_rate', 'dst_host_srv_serror_rate',\n",
       "       'dst_host_rerror_rate', 'dst_host_srv_rerror_rate', 'label',\n",
       "       'protocol_icmp', 'protocol_tcp', 'protocol_udp', 'service_IRC',\n",
       "       'service_X11', 'service_Z39_50', 'service_aol', 'service_auth',\n",
       "       'service_bgp', 'service_courier', 'service_csnet_ns',\n",
       "       'service_ctf', 'service_daytime', 'service_discard',\n",
       "       'service_domain', 'service_domain_u', 'service_echo',\n",
       "       'service_eco_i', 'service_ecr_i', 'service_efs', 'service_exec',\n",
       "       'service_finger', 'service_ftp', 'service_ftp_data',\n",
       "       'service_gopher', 'service_harvest', 'service_hostnames',\n",
       "       'service_http', 'service_http_2784', 'service_http_443',\n",
       "       'service_http_8001', 'service_imap4', 'service_iso_tsap',\n",
       "       'service_klogin', 'service_kshell', 'service_ldap', 'service_link',\n",
       "       'service_login', 'service_mtp', 'service_name',\n",
       "       'service_netbios_dgm', 'service_netbios_ns', 'service_netbios_ssn',\n",
       "       'service_netstat', 'service_nnsp', 'service_nntp', 'service_ntp_u',\n",
       "       'service_other', 'service_pm_dump', 'service_pop_2',\n",
       "       'service_pop_3', 'service_printer', 'service_private',\n",
       "       'service_red_i', 'service_remote_job', 'service_rje',\n",
       "       'service_shell', 'service_smtp', 'service_sql_net', 'service_ssh',\n",
       "       'service_sunrpc', 'service_supdup', 'service_systat',\n",
       "       'service_telnet', 'service_tftp_u', 'service_tim_i',\n",
       "       'service_time', 'service_urh_i', 'service_urp_i', 'service_uucp',\n",
       "       'service_uucp_path', 'service_vmnet', 'service_whois', 'flagOTH',\n",
       "       'flagREJ', 'flagRSTO', 'flagRSTOS0', 'flagRSTR', 'flagS0',\n",
       "       'flagS1', 'flagS2', 'flagS3', 'flagSF', 'flagSH'], dtype=object)"
      ]
     },
     "execution_count": 35,
     "metadata": {},
     "output_type": "execute_result"
    }
   ],
   "source": [
    "df.columns.values"
   ]
  },
  {
   "cell_type": "code",
   "execution_count": 36,
   "metadata": {},
   "outputs": [
    {
     "data": {
      "text/plain": [
       "array(['duration', 'src_bytes', 'dst_bytes', 'land', 'wrong_fragment',\n",
       "       'urgent', 'hot', 'num_failed_logins', 'logged_in',\n",
       "       'num_compromised', 'root_shell', 'su_attempted', 'num_root',\n",
       "       'num_file_creations', 'num_shells', 'num_access_files',\n",
       "       'num_outbound_cmds', 'is_host_login', 'is_guest_login', 'count',\n",
       "       'srv_count', 'serror_rate', 'srv_serror_rate', 'rerror_rate',\n",
       "       'srv_rerror_rate', 'same_srv_rate', 'diff_srv_rate',\n",
       "       'srv_diff_host_rate', 'dst_host_count', 'dst_host_srv_count',\n",
       "       'dst_host_same_srv_rate', 'dst_host_diff_srv_rate',\n",
       "       'dst_host_same_src_port_rate', 'dst_host_srv_diff_host_rate',\n",
       "       'dst_host_serror_rate', 'dst_host_srv_serror_rate',\n",
       "       'dst_host_rerror_rate', 'dst_host_srv_rerror_rate', 'label',\n",
       "       'protocol_icmp', 'protocol_tcp', 'protocol_udp', 'service_IRC',\n",
       "       'service_X11', 'service_Z39_50', 'service_auth', 'service_bgp',\n",
       "       'service_courier', 'service_csnet_ns', 'service_ctf',\n",
       "       'service_daytime', 'service_discard', 'service_domain',\n",
       "       'service_domain_u', 'service_echo', 'service_eco_i',\n",
       "       'service_ecr_i', 'service_efs', 'service_exec', 'service_finger',\n",
       "       'service_ftp', 'service_ftp_data', 'service_gopher',\n",
       "       'service_hostnames', 'service_http', 'service_http_443',\n",
       "       'service_imap4', 'service_iso_tsap', 'service_klogin',\n",
       "       'service_kshell', 'service_ldap', 'service_link', 'service_login',\n",
       "       'service_mtp', 'service_name', 'service_netbios_dgm',\n",
       "       'service_netbios_ns', 'service_netbios_ssn', 'service_netstat',\n",
       "       'service_nnsp', 'service_nntp', 'service_ntp_u', 'service_other',\n",
       "       'service_pm_dump', 'service_pop_2', 'service_pop_3',\n",
       "       'service_printer', 'service_private', 'service_remote_job',\n",
       "       'service_rje', 'service_shell', 'service_smtp', 'service_sql_net',\n",
       "       'service_ssh', 'service_sunrpc', 'service_supdup',\n",
       "       'service_systat', 'service_telnet', 'service_tftp_u',\n",
       "       'service_tim_i', 'service_time', 'service_urp_i', 'service_uucp',\n",
       "       'service_uucp_path', 'service_vmnet', 'service_whois', 'flagOTH',\n",
       "       'flagREJ', 'flagRSTO', 'flagRSTOS0', 'flagRSTR', 'flagS0',\n",
       "       'flagS1', 'flagS2', 'flagS3', 'flagSF', 'flagSH', 'service_aol',\n",
       "       'service_red_i', 'service_http_2784', 'service_http_8001',\n",
       "       'service_urh_i', 'service_harvest'], dtype=object)"
      ]
     },
     "execution_count": 36,
     "metadata": {},
     "output_type": "execute_result"
    }
   ],
   "source": [
    "test_df.columns.values"
   ]
  },
  {
   "cell_type": "code",
   "execution_count": 37,
   "metadata": {},
   "outputs": [],
   "source": [
    "a=set(df.columns.values)-set(test_df.columns.values)"
   ]
  },
  {
   "cell_type": "code",
   "execution_count": 38,
   "metadata": {},
   "outputs": [
    {
     "name": "stdout",
     "output_type": "stream",
     "text": [
      "set()\n"
     ]
    }
   ],
   "source": [
    "print(a)"
   ]
  },
  {
   "cell_type": "code",
   "execution_count": 39,
   "metadata": {},
   "outputs": [
    {
     "data": {
      "text/plain": [
       "normal             67343\n",
       "neptune            41214\n",
       "satan               3633\n",
       "ipsweep             3599\n",
       "portsweep           2931\n",
       "smurf               2646\n",
       "nmap                1493\n",
       "back                 956\n",
       "teardrop             892\n",
       "warezclient          890\n",
       "pod                  201\n",
       "guess_passwd          53\n",
       "buffer_overflow       30\n",
       "warezmaster           20\n",
       "land                  18\n",
       "imap                  11\n",
       "rootkit               10\n",
       "loadmodule             9\n",
       "ftp_write              8\n",
       "multihop               7\n",
       "phf                    4\n",
       "perl                   3\n",
       "spy                    2\n",
       "Name: label, dtype: int64"
      ]
     },
     "execution_count": 39,
     "metadata": {},
     "output_type": "execute_result"
    }
   ],
   "source": [
    "df['label'].value_counts()"
   ]
  },
  {
   "cell_type": "code",
   "execution_count": 40,
   "metadata": {},
   "outputs": [
    {
     "data": {
      "text/plain": [
       "normal             9711\n",
       "neptune            4657\n",
       "guess_passwd       1231\n",
       "mscan               996\n",
       "warezmaster         944\n",
       "apache2             737\n",
       "satan               735\n",
       "processtable        685\n",
       "smurf               665\n",
       "back                359\n",
       "snmpguess           331\n",
       "saint               319\n",
       "mailbomb            293\n",
       "snmpgetattack       178\n",
       "portsweep           157\n",
       "ipsweep             141\n",
       "httptunnel          133\n",
       "nmap                 73\n",
       "pod                  41\n",
       "buffer_overflow      20\n",
       "multihop             18\n",
       "named                17\n",
       "ps                   15\n",
       "sendmail             14\n",
       "rootkit              13\n",
       "xterm                13\n",
       "teardrop             12\n",
       "xlock                 9\n",
       "land                  7\n",
       "xsnoop                4\n",
       "ftp_write             3\n",
       "perl                  2\n",
       "sqlattack             2\n",
       "udpstorm              2\n",
       "loadmodule            2\n",
       "phf                   2\n",
       "worm                  2\n",
       "imap                  1\n",
       "Name: label, dtype: int64"
      ]
     },
     "execution_count": 40,
     "metadata": {},
     "output_type": "execute_result"
    }
   ],
   "source": [
    "test_df['label'].value_counts()"
   ]
  },
  {
   "cell_type": "code",
   "execution_count": 41,
   "metadata": {},
   "outputs": [],
   "source": [
    "df.drop('num_outbound_cmds',axis=1,inplace=True)\n",
    "test_df.drop('num_outbound_cmds',axis=1,inplace=True)"
   ]
  },
  {
   "cell_type": "code",
   "execution_count": 42,
   "metadata": {},
   "outputs": [
    {
     "name": "stderr",
     "output_type": "stream",
     "text": [
      "C:\\Users\\anjineyulu\\AppData\\Local\\Continuum\\anaconda3\\lib\\site-packages\\ipykernel_launcher.py:3: SettingWithCopyWarning: \n",
      "A value is trying to be set on a copy of a slice from a DataFrame\n",
      "\n",
      "See the caveats in the documentation: http://pandas.pydata.org/pandas-docs/stable/indexing.html#indexing-view-versus-copy\n",
      "  This is separate from the ipykernel package so we can avoid doing imports until\n",
      "C:\\Users\\anjineyulu\\AppData\\Local\\Continuum\\anaconda3\\lib\\site-packages\\ipykernel_launcher.py:7: SettingWithCopyWarning: \n",
      "A value is trying to be set on a copy of a slice from a DataFrame\n",
      "\n",
      "See the caveats in the documentation: http://pandas.pydata.org/pandas-docs/stable/indexing.html#indexing-view-versus-copy\n",
      "  import sys\n",
      "C:\\Users\\anjineyulu\\AppData\\Local\\Continuum\\anaconda3\\lib\\site-packages\\ipykernel_launcher.py:5: SettingWithCopyWarning: \n",
      "A value is trying to be set on a copy of a slice from a DataFrame\n",
      "\n",
      "See the caveats in the documentation: http://pandas.pydata.org/pandas-docs/stable/indexing.html#indexing-view-versus-copy\n",
      "  \"\"\"\n",
      "C:\\Users\\anjineyulu\\AppData\\Local\\Continuum\\anaconda3\\lib\\site-packages\\ipykernel_launcher.py:9: SettingWithCopyWarning: \n",
      "A value is trying to be set on a copy of a slice from a DataFrame\n",
      "\n",
      "See the caveats in the documentation: http://pandas.pydata.org/pandas-docs/stable/indexing.html#indexing-view-versus-copy\n",
      "  if __name__ == '__main__':\n"
     ]
    },
    {
     "name": "stdout",
     "output_type": "stream",
     "text": [
      "Wall time: 52min 36s\n"
     ]
    }
   ],
   "source": [
    "%%time\n",
    "for i, attack in enumerate(df.label):\n",
    "            if attack=='neptune' or attack=='back' or attack=='land'or attack=='pod' or attack=='smurf' or attack=='teardrop' or attack=='apache2' or attack=='udpstorm' or attack=='processtable' or attack=='worm' or attack=='mailbomb':\n",
    "                   df.label[i]='DoS'\n",
    "            elif attack=='satan' or attack=='ipsweep' or attack=='nmap'or attack=='portsweep' or attack=='mscan' or attack=='saint':\n",
    "                   df.label[i]='Probe'\n",
    "            elif attack=='guess_passwd' or attack=='ftp_write' or attack=='imap'or attack=='phf' or attack=='multihop' or attack=='warezmaster' or attack=='warezclient' or attack=='spy' or attack=='xlock' or attack=='xsnoop' or attack=='snmpguess' or attack=='snmpgetattack' or attack=='httptunnel' or attack=='sendmail' or attack=='named':\n",
    "                   df.label[i]='R2L'\n",
    "            elif attack=='buffer_overflow' or attack=='loadmodule' or attack=='rootkit'or attack=='perl' or attack=='sqlattack' or attack=='xterm' or attack=='ps':\n",
    "                   df.label[i]='U2R'"
   ]
  },
  {
   "cell_type": "code",
   "execution_count": 43,
   "metadata": {},
   "outputs": [
    {
     "name": "stderr",
     "output_type": "stream",
     "text": [
      "C:\\Users\\anjineyulu\\AppData\\Local\\Continuum\\anaconda3\\lib\\site-packages\\ipykernel_launcher.py:3: SettingWithCopyWarning: \n",
      "A value is trying to be set on a copy of a slice from a DataFrame\n",
      "\n",
      "See the caveats in the documentation: http://pandas.pydata.org/pandas-docs/stable/indexing.html#indexing-view-versus-copy\n",
      "  This is separate from the ipykernel package so we can avoid doing imports until\n",
      "C:\\Users\\anjineyulu\\AppData\\Local\\Continuum\\anaconda3\\lib\\site-packages\\ipykernel_launcher.py:5: SettingWithCopyWarning: \n",
      "A value is trying to be set on a copy of a slice from a DataFrame\n",
      "\n",
      "See the caveats in the documentation: http://pandas.pydata.org/pandas-docs/stable/indexing.html#indexing-view-versus-copy\n",
      "  \"\"\"\n",
      "C:\\Users\\anjineyulu\\AppData\\Local\\Continuum\\anaconda3\\lib\\site-packages\\ipykernel_launcher.py:7: SettingWithCopyWarning: \n",
      "A value is trying to be set on a copy of a slice from a DataFrame\n",
      "\n",
      "See the caveats in the documentation: http://pandas.pydata.org/pandas-docs/stable/indexing.html#indexing-view-versus-copy\n",
      "  import sys\n",
      "C:\\Users\\anjineyulu\\AppData\\Local\\Continuum\\anaconda3\\lib\\site-packages\\ipykernel_launcher.py:9: SettingWithCopyWarning: \n",
      "A value is trying to be set on a copy of a slice from a DataFrame\n",
      "\n",
      "See the caveats in the documentation: http://pandas.pydata.org/pandas-docs/stable/indexing.html#indexing-view-versus-copy\n",
      "  if __name__ == '__main__':\n"
     ]
    },
    {
     "name": "stdout",
     "output_type": "stream",
     "text": [
      "Wall time: 12min 50s\n"
     ]
    }
   ],
   "source": [
    "%%time\n",
    "for i, attack in enumerate(test_df.label):\n",
    "            if attack=='neptune' or attack=='back' or attack=='land'or attack=='pod' or attack=='smurf' or attack=='teardrop' or attack=='apache2' or attack=='udpstorm' or attack=='processtable' or attack=='worm' or attack=='mailbomb':\n",
    "                   test_df.label[i]='DoS'\n",
    "            elif attack=='satan' or attack=='ipsweep' or attack=='nmap'or attack=='portsweep' or attack=='mscan' or attack=='saint':\n",
    "                   test_df.label[i]='Probe'\n",
    "            elif attack=='guess_passwd' or attack=='ftp_write' or attack=='imap'or attack=='phf' or attack=='multihop' or attack=='warezmaster' or attack=='warezclient' or attack=='spy' or attack=='xlock' or attack=='xsnoop' or attack=='snmpguess' or attack=='snmpgetattack' or attack=='httptunnel' or attack=='sendmail' or attack=='named':\n",
    "                   test_df.label[i]='R2L'\n",
    "            elif attack=='buffer_overflow' or attack=='loadmodule' or attack=='rootkit'or attack=='perl' or attack=='sqlattack' or attack=='xterm' or attack=='ps':\n",
    "                   test_df.label[i]='U2R'"
   ]
  },
  {
   "cell_type": "code",
   "execution_count": 44,
   "metadata": {},
   "outputs": [
    {
     "name": "stderr",
     "output_type": "stream",
     "text": [
      "C:\\Users\\anjineyulu\\AppData\\Local\\Continuum\\anaconda3\\lib\\site-packages\\ipykernel_launcher.py:1: SettingWithCopyWarning: \n",
      "A value is trying to be set on a copy of a slice from a DataFrame\n",
      "\n",
      "See the caveats in the documentation: http://pandas.pydata.org/pandas-docs/stable/indexing.html#indexing-view-versus-copy\n",
      "  \"\"\"Entry point for launching an IPython kernel.\n",
      "C:\\Users\\anjineyulu\\AppData\\Local\\Continuum\\anaconda3\\lib\\site-packages\\ipykernel_launcher.py:2: SettingWithCopyWarning: \n",
      "A value is trying to be set on a copy of a slice from a DataFrame\n",
      "\n",
      "See the caveats in the documentation: http://pandas.pydata.org/pandas-docs/stable/indexing.html#indexing-view-versus-copy\n",
      "  \n",
      "C:\\Users\\anjineyulu\\AppData\\Local\\Continuum\\anaconda3\\lib\\site-packages\\ipykernel_launcher.py:3: SettingWithCopyWarning: \n",
      "A value is trying to be set on a copy of a slice from a DataFrame\n",
      "\n",
      "See the caveats in the documentation: http://pandas.pydata.org/pandas-docs/stable/indexing.html#indexing-view-versus-copy\n",
      "  This is separate from the ipykernel package so we can avoid doing imports until\n",
      "C:\\Users\\anjineyulu\\AppData\\Local\\Continuum\\anaconda3\\lib\\site-packages\\ipykernel_launcher.py:4: SettingWithCopyWarning: \n",
      "A value is trying to be set on a copy of a slice from a DataFrame\n",
      "\n",
      "See the caveats in the documentation: http://pandas.pydata.org/pandas-docs/stable/indexing.html#indexing-view-versus-copy\n",
      "  after removing the cwd from sys.path.\n",
      "C:\\Users\\anjineyulu\\AppData\\Local\\Continuum\\anaconda3\\lib\\site-packages\\ipykernel_launcher.py:5: SettingWithCopyWarning: \n",
      "A value is trying to be set on a copy of a slice from a DataFrame\n",
      "\n",
      "See the caveats in the documentation: http://pandas.pydata.org/pandas-docs/stable/indexing.html#indexing-view-versus-copy\n",
      "  \"\"\"\n"
     ]
    }
   ],
   "source": [
    "df['label'][df['label']=='normal']=0\n",
    "df['label'][df['label']=='DoS']=1\n",
    "df['label'][df['label']=='R2L']=2\n",
    "df['label'][df['label']=='Probe']=3\n",
    "df['label'][df['label']=='U2R']=4"
   ]
  },
  {
   "cell_type": "code",
   "execution_count": 51,
   "metadata": {},
   "outputs": [
    {
     "data": {
      "text/plain": [
       "0    67343\n",
       "1    45927\n",
       "3    11656\n",
       "2      995\n",
       "4       52\n",
       "Name: label, dtype: int64"
      ]
     },
     "execution_count": 51,
     "metadata": {},
     "output_type": "execute_result"
    }
   ],
   "source": [
    "df['label'].value_counts()"
   ]
  },
  {
   "cell_type": "code",
   "execution_count": 52,
   "metadata": {},
   "outputs": [
    {
     "name": "stderr",
     "output_type": "stream",
     "text": [
      "C:\\Users\\anjineyulu\\AppData\\Local\\Continuum\\anaconda3\\lib\\site-packages\\ipykernel_launcher.py:1: SettingWithCopyWarning: \n",
      "A value is trying to be set on a copy of a slice from a DataFrame\n",
      "\n",
      "See the caveats in the documentation: http://pandas.pydata.org/pandas-docs/stable/indexing.html#indexing-view-versus-copy\n",
      "  \"\"\"Entry point for launching an IPython kernel.\n",
      "C:\\Users\\anjineyulu\\AppData\\Local\\Continuum\\anaconda3\\lib\\site-packages\\ipykernel_launcher.py:2: SettingWithCopyWarning: \n",
      "A value is trying to be set on a copy of a slice from a DataFrame\n",
      "\n",
      "See the caveats in the documentation: http://pandas.pydata.org/pandas-docs/stable/indexing.html#indexing-view-versus-copy\n",
      "  \n",
      "C:\\Users\\anjineyulu\\AppData\\Local\\Continuum\\anaconda3\\lib\\site-packages\\ipykernel_launcher.py:3: SettingWithCopyWarning: \n",
      "A value is trying to be set on a copy of a slice from a DataFrame\n",
      "\n",
      "See the caveats in the documentation: http://pandas.pydata.org/pandas-docs/stable/indexing.html#indexing-view-versus-copy\n",
      "  This is separate from the ipykernel package so we can avoid doing imports until\n",
      "C:\\Users\\anjineyulu\\AppData\\Local\\Continuum\\anaconda3\\lib\\site-packages\\ipykernel_launcher.py:4: SettingWithCopyWarning: \n",
      "A value is trying to be set on a copy of a slice from a DataFrame\n",
      "\n",
      "See the caveats in the documentation: http://pandas.pydata.org/pandas-docs/stable/indexing.html#indexing-view-versus-copy\n",
      "  after removing the cwd from sys.path.\n",
      "C:\\Users\\anjineyulu\\AppData\\Local\\Continuum\\anaconda3\\lib\\site-packages\\ipykernel_launcher.py:5: SettingWithCopyWarning: \n",
      "A value is trying to be set on a copy of a slice from a DataFrame\n",
      "\n",
      "See the caveats in the documentation: http://pandas.pydata.org/pandas-docs/stable/indexing.html#indexing-view-versus-copy\n",
      "  \"\"\"\n"
     ]
    }
   ],
   "source": [
    "test_df['label'][test_df['label']=='normal']=0\n",
    "test_df['label'][test_df['label']=='DoS']=1\n",
    "test_df['label'][test_df['label']=='R2L']=2\n",
    "test_df['label'][test_df['label']=='Probe']=3\n",
    "test_df['label'][test_df['label']=='U2R']=4"
   ]
  },
  {
   "cell_type": "code",
   "execution_count": 53,
   "metadata": {},
   "outputs": [
    {
     "data": {
      "text/plain": [
       "0    9711\n",
       "1    7460\n",
       "2    2885\n",
       "3    2421\n",
       "4      67\n",
       "Name: label, dtype: int64"
      ]
     },
     "execution_count": 53,
     "metadata": {},
     "output_type": "execute_result"
    }
   ],
   "source": [
    "test_df['label'].value_counts()"
   ]
  },
  {
   "cell_type": "code",
   "execution_count": 54,
   "metadata": {},
   "outputs": [
    {
     "data": {
      "text/plain": [
       "(67, 122)"
      ]
     },
     "execution_count": 54,
     "metadata": {},
     "output_type": "execute_result"
    }
   ],
   "source": [
    "test_df[test_df['label']==4].shape"
   ]
  },
  {
   "cell_type": "code",
   "execution_count": null,
   "metadata": {},
   "outputs": [],
   "source": []
  },
  {
   "cell_type": "code",
   "execution_count": 55,
   "metadata": {},
   "outputs": [],
   "source": [
    "df_dos_train=df[ (df['label']==1) |(df['label']==0)]\n",
    "df_r2l_train=df[(df['label']==2) | (df['label']==0)]\n",
    "df_probe_train=df[(df['label']==3) | (df['label']==0)]\n",
    "df_u2r_train=df[(df['label']==4) | (df['label']==0)]"
   ]
  },
  {
   "cell_type": "code",
   "execution_count": 58,
   "metadata": {},
   "outputs": [],
   "source": [
    "df_dos_test=test_df[(test_df['label']==1) | (test_df['label']==0)]\n",
    "df_r2l_test=test_df[(test_df['label']==2) | (test_df['label']==0)]\n",
    "df_probe_test=test_df[(test_df['label']==3) | (test_df['label']==0)]\n",
    "df_u2r_test=test_df[(test_df['label']==4) | (test_df['label']==0)]\n",
    "#df_u2r_test=test_df[(test_df['label']==4 | (test_df['label']==0)]"
   ]
  },
  {
   "cell_type": "markdown",
   "metadata": {},
   "source": [
    "#Reference:https://github.com/CynthiaKoopman/Network-Intrusion-Detection/blob/master/DecisionTree_IDS.ipynb"
   ]
  },
  {
   "cell_type": "code",
   "execution_count": 59,
   "metadata": {},
   "outputs": [
    {
     "name": "stderr",
     "output_type": "stream",
     "text": [
      "C:\\Users\\anjineyulu\\AppData\\Local\\Continuum\\anaconda3\\lib\\site-packages\\pandas\\core\\frame.py:3694: SettingWithCopyWarning: \n",
      "A value is trying to be set on a copy of a slice from a DataFrame\n",
      "\n",
      "See the caveats in the documentation: http://pandas.pydata.org/pandas-docs/stable/indexing.html#indexing-view-versus-copy\n",
      "  errors=errors)\n"
     ]
    }
   ],
   "source": [
    "df_dos_train_y=df_dos_train['label']\n",
    "df_dos_train.drop('label',axis=1,inplace=True)\n",
    "df_dos_train_x=df_dos_train\n",
    "\n",
    "df_r2l_train_y=df_r2l_train['label']\n",
    "df_r2l_train.drop('label',axis=1,inplace=True)\n",
    "df_r2l_train_x=df_r2l_train\n",
    "\n",
    "df_probe_train_y=df_probe_train['label']\n",
    "df_probe_train.drop('label',axis=1,inplace=True)\n",
    "df_probe_train_x=df_probe_train\n",
    "\n",
    "df_u2r_train_y=df_u2r_train['label']\n",
    "df_u2r_train.drop('label',axis=1,inplace=True)\n",
    "df_u2r_train_x=df_u2r_train"
   ]
  },
  {
   "cell_type": "code",
   "execution_count": 60,
   "metadata": {},
   "outputs": [
    {
     "name": "stderr",
     "output_type": "stream",
     "text": [
      "C:\\Users\\anjineyulu\\AppData\\Local\\Continuum\\anaconda3\\lib\\site-packages\\pandas\\core\\frame.py:3694: SettingWithCopyWarning: \n",
      "A value is trying to be set on a copy of a slice from a DataFrame\n",
      "\n",
      "See the caveats in the documentation: http://pandas.pydata.org/pandas-docs/stable/indexing.html#indexing-view-versus-copy\n",
      "  errors=errors)\n"
     ]
    }
   ],
   "source": [
    "df_dos_test_y=df_dos_test['label']\n",
    "df_dos_test.drop('label',axis=1,inplace=True)\n",
    "df_dos_test_x=df_dos_test\n",
    "\n",
    "df_r2l_test_y=df_r2l_test['label']\n",
    "df_r2l_test.drop('label',axis=1,inplace=True)\n",
    "df_r2l_test_x=df_r2l_test\n",
    "\n",
    "df_probe_test_y=df_probe_test['label']\n",
    "df_probe_test.drop('label',axis=1,inplace=True)\n",
    "df_probe_test_x=df_probe_test\n",
    "\n",
    "df_u2r_test_y=df_u2r_test['label']\n",
    "df_u2r_test.drop('label',axis=1,inplace=True)\n",
    "df_u2r_test_x=df_u2r_test"
   ]
  },
  {
   "cell_type": "code",
   "execution_count": 61,
   "metadata": {},
   "outputs": [
    {
     "data": {
      "text/html": [
       "<div>\n",
       "<style scoped>\n",
       "    .dataframe tbody tr th:only-of-type {\n",
       "        vertical-align: middle;\n",
       "    }\n",
       "\n",
       "    .dataframe tbody tr th {\n",
       "        vertical-align: top;\n",
       "    }\n",
       "\n",
       "    .dataframe thead th {\n",
       "        text-align: right;\n",
       "    }\n",
       "</style>\n",
       "<table border=\"1\" class=\"dataframe\">\n",
       "  <thead>\n",
       "    <tr style=\"text-align: right;\">\n",
       "      <th></th>\n",
       "      <th>duration</th>\n",
       "      <th>src_bytes</th>\n",
       "      <th>dst_bytes</th>\n",
       "      <th>land</th>\n",
       "      <th>wrong_fragment</th>\n",
       "      <th>urgent</th>\n",
       "      <th>hot</th>\n",
       "      <th>num_failed_logins</th>\n",
       "      <th>logged_in</th>\n",
       "      <th>num_compromised</th>\n",
       "      <th>...</th>\n",
       "      <th>flagREJ</th>\n",
       "      <th>flagRSTO</th>\n",
       "      <th>flagRSTOS0</th>\n",
       "      <th>flagRSTR</th>\n",
       "      <th>flagS0</th>\n",
       "      <th>flagS1</th>\n",
       "      <th>flagS2</th>\n",
       "      <th>flagS3</th>\n",
       "      <th>flagSF</th>\n",
       "      <th>flagSH</th>\n",
       "    </tr>\n",
       "  </thead>\n",
       "  <tbody>\n",
       "    <tr>\n",
       "      <th>0</th>\n",
       "      <td>0</td>\n",
       "      <td>491</td>\n",
       "      <td>0</td>\n",
       "      <td>0</td>\n",
       "      <td>0</td>\n",
       "      <td>0</td>\n",
       "      <td>0</td>\n",
       "      <td>0</td>\n",
       "      <td>0</td>\n",
       "      <td>0</td>\n",
       "      <td>...</td>\n",
       "      <td>0.0</td>\n",
       "      <td>0.0</td>\n",
       "      <td>0.0</td>\n",
       "      <td>0.0</td>\n",
       "      <td>0.0</td>\n",
       "      <td>0.0</td>\n",
       "      <td>0.0</td>\n",
       "      <td>0.0</td>\n",
       "      <td>1.0</td>\n",
       "      <td>0.0</td>\n",
       "    </tr>\n",
       "    <tr>\n",
       "      <th>1</th>\n",
       "      <td>0</td>\n",
       "      <td>146</td>\n",
       "      <td>0</td>\n",
       "      <td>0</td>\n",
       "      <td>0</td>\n",
       "      <td>0</td>\n",
       "      <td>0</td>\n",
       "      <td>0</td>\n",
       "      <td>0</td>\n",
       "      <td>0</td>\n",
       "      <td>...</td>\n",
       "      <td>0.0</td>\n",
       "      <td>0.0</td>\n",
       "      <td>0.0</td>\n",
       "      <td>0.0</td>\n",
       "      <td>0.0</td>\n",
       "      <td>0.0</td>\n",
       "      <td>0.0</td>\n",
       "      <td>0.0</td>\n",
       "      <td>1.0</td>\n",
       "      <td>0.0</td>\n",
       "    </tr>\n",
       "    <tr>\n",
       "      <th>3</th>\n",
       "      <td>0</td>\n",
       "      <td>232</td>\n",
       "      <td>8153</td>\n",
       "      <td>0</td>\n",
       "      <td>0</td>\n",
       "      <td>0</td>\n",
       "      <td>0</td>\n",
       "      <td>0</td>\n",
       "      <td>1</td>\n",
       "      <td>0</td>\n",
       "      <td>...</td>\n",
       "      <td>0.0</td>\n",
       "      <td>0.0</td>\n",
       "      <td>0.0</td>\n",
       "      <td>0.0</td>\n",
       "      <td>0.0</td>\n",
       "      <td>0.0</td>\n",
       "      <td>0.0</td>\n",
       "      <td>0.0</td>\n",
       "      <td>1.0</td>\n",
       "      <td>0.0</td>\n",
       "    </tr>\n",
       "    <tr>\n",
       "      <th>4</th>\n",
       "      <td>0</td>\n",
       "      <td>199</td>\n",
       "      <td>420</td>\n",
       "      <td>0</td>\n",
       "      <td>0</td>\n",
       "      <td>0</td>\n",
       "      <td>0</td>\n",
       "      <td>0</td>\n",
       "      <td>1</td>\n",
       "      <td>0</td>\n",
       "      <td>...</td>\n",
       "      <td>0.0</td>\n",
       "      <td>0.0</td>\n",
       "      <td>0.0</td>\n",
       "      <td>0.0</td>\n",
       "      <td>0.0</td>\n",
       "      <td>0.0</td>\n",
       "      <td>0.0</td>\n",
       "      <td>0.0</td>\n",
       "      <td>1.0</td>\n",
       "      <td>0.0</td>\n",
       "    </tr>\n",
       "    <tr>\n",
       "      <th>12</th>\n",
       "      <td>0</td>\n",
       "      <td>287</td>\n",
       "      <td>2251</td>\n",
       "      <td>0</td>\n",
       "      <td>0</td>\n",
       "      <td>0</td>\n",
       "      <td>0</td>\n",
       "      <td>0</td>\n",
       "      <td>1</td>\n",
       "      <td>0</td>\n",
       "      <td>...</td>\n",
       "      <td>0.0</td>\n",
       "      <td>0.0</td>\n",
       "      <td>0.0</td>\n",
       "      <td>0.0</td>\n",
       "      <td>0.0</td>\n",
       "      <td>0.0</td>\n",
       "      <td>0.0</td>\n",
       "      <td>0.0</td>\n",
       "      <td>1.0</td>\n",
       "      <td>0.0</td>\n",
       "    </tr>\n",
       "  </tbody>\n",
       "</table>\n",
       "<p>5 rows × 121 columns</p>\n",
       "</div>"
      ],
      "text/plain": [
       "    duration  src_bytes  dst_bytes  land  wrong_fragment  urgent  hot  \\\n",
       "0          0        491          0     0               0       0    0   \n",
       "1          0        146          0     0               0       0    0   \n",
       "3          0        232       8153     0               0       0    0   \n",
       "4          0        199        420     0               0       0    0   \n",
       "12         0        287       2251     0               0       0    0   \n",
       "\n",
       "    num_failed_logins  logged_in  num_compromised   ...    flagREJ  flagRSTO  \\\n",
       "0                   0          0                0   ...        0.0       0.0   \n",
       "1                   0          0                0   ...        0.0       0.0   \n",
       "3                   0          1                0   ...        0.0       0.0   \n",
       "4                   0          1                0   ...        0.0       0.0   \n",
       "12                  0          1                0   ...        0.0       0.0   \n",
       "\n",
       "    flagRSTOS0  flagRSTR  flagS0  flagS1  flagS2  flagS3  flagSF  flagSH  \n",
       "0          0.0       0.0     0.0     0.0     0.0     0.0     1.0     0.0  \n",
       "1          0.0       0.0     0.0     0.0     0.0     0.0     1.0     0.0  \n",
       "3          0.0       0.0     0.0     0.0     0.0     0.0     1.0     0.0  \n",
       "4          0.0       0.0     0.0     0.0     0.0     0.0     1.0     0.0  \n",
       "12         0.0       0.0     0.0     0.0     0.0     0.0     1.0     0.0  \n",
       "\n",
       "[5 rows x 121 columns]"
      ]
     },
     "execution_count": 61,
     "metadata": {},
     "output_type": "execute_result"
    }
   ],
   "source": [
    "df_r2l_train_x.head(5)"
   ]
  },
  {
   "cell_type": "code",
   "execution_count": 62,
   "metadata": {},
   "outputs": [
    {
     "data": {
      "text/html": [
       "<div>\n",
       "<style scoped>\n",
       "    .dataframe tbody tr th:only-of-type {\n",
       "        vertical-align: middle;\n",
       "    }\n",
       "\n",
       "    .dataframe tbody tr th {\n",
       "        vertical-align: top;\n",
       "    }\n",
       "\n",
       "    .dataframe thead th {\n",
       "        text-align: right;\n",
       "    }\n",
       "</style>\n",
       "<table border=\"1\" class=\"dataframe\">\n",
       "  <thead>\n",
       "    <tr style=\"text-align: right;\">\n",
       "      <th></th>\n",
       "      <th>duration</th>\n",
       "      <th>src_bytes</th>\n",
       "      <th>dst_bytes</th>\n",
       "      <th>land</th>\n",
       "      <th>wrong_fragment</th>\n",
       "      <th>urgent</th>\n",
       "      <th>hot</th>\n",
       "      <th>num_failed_logins</th>\n",
       "      <th>logged_in</th>\n",
       "      <th>num_compromised</th>\n",
       "      <th>...</th>\n",
       "      <th>flagREJ</th>\n",
       "      <th>flagRSTO</th>\n",
       "      <th>flagRSTOS0</th>\n",
       "      <th>flagRSTR</th>\n",
       "      <th>flagS0</th>\n",
       "      <th>flagS1</th>\n",
       "      <th>flagS2</th>\n",
       "      <th>flagS3</th>\n",
       "      <th>flagSF</th>\n",
       "      <th>flagSH</th>\n",
       "    </tr>\n",
       "  </thead>\n",
       "  <tbody>\n",
       "    <tr>\n",
       "      <th>count</th>\n",
       "      <td>68338.000000</td>\n",
       "      <td>6.833800e+04</td>\n",
       "      <td>6.833800e+04</td>\n",
       "      <td>68338.000000</td>\n",
       "      <td>68338.0</td>\n",
       "      <td>68338.000000</td>\n",
       "      <td>68338.000000</td>\n",
       "      <td>68338.000000</td>\n",
       "      <td>68338.000000</td>\n",
       "      <td>68338.000000</td>\n",
       "      <td>...</td>\n",
       "      <td>68338.000000</td>\n",
       "      <td>68338.000000</td>\n",
       "      <td>68338.0</td>\n",
       "      <td>68338.000000</td>\n",
       "      <td>68338.000000</td>\n",
       "      <td>68338.000000</td>\n",
       "      <td>68338.000000</td>\n",
       "      <td>68338.000000</td>\n",
       "      <td>68338.000000</td>\n",
       "      <td>68338.000000</td>\n",
       "    </tr>\n",
       "    <tr>\n",
       "      <th>mean</th>\n",
       "      <td>175.355307</td>\n",
       "      <td>1.742256e+04</td>\n",
       "      <td>5.457972e+03</td>\n",
       "      <td>0.000102</td>\n",
       "      <td>0.0</td>\n",
       "      <td>0.000190</td>\n",
       "      <td>0.348649</td>\n",
       "      <td>0.002180</td>\n",
       "      <td>0.713600</td>\n",
       "      <td>0.500819</td>\n",
       "      <td>...</td>\n",
       "      <td>0.039407</td>\n",
       "      <td>0.003878</td>\n",
       "      <td>0.0</td>\n",
       "      <td>0.002210</td>\n",
       "      <td>0.005180</td>\n",
       "      <td>0.005297</td>\n",
       "      <td>0.001756</td>\n",
       "      <td>0.000702</td>\n",
       "      <td>0.941321</td>\n",
       "      <td>0.000088</td>\n",
       "    </tr>\n",
       "    <tr>\n",
       "      <th>std</th>\n",
       "      <td>1323.789323</td>\n",
       "      <td>4.415764e+05</td>\n",
       "      <td>1.003994e+05</td>\n",
       "      <td>0.010120</td>\n",
       "      <td>0.0</td>\n",
       "      <td>0.019126</td>\n",
       "      <td>2.901707</td>\n",
       "      <td>0.059345</td>\n",
       "      <td>0.452082</td>\n",
       "      <td>32.504604</td>\n",
       "      <td>...</td>\n",
       "      <td>0.194563</td>\n",
       "      <td>0.062151</td>\n",
       "      <td>0.0</td>\n",
       "      <td>0.046955</td>\n",
       "      <td>0.071787</td>\n",
       "      <td>0.072589</td>\n",
       "      <td>0.041868</td>\n",
       "      <td>0.026494</td>\n",
       "      <td>0.235024</td>\n",
       "      <td>0.009370</td>\n",
       "    </tr>\n",
       "    <tr>\n",
       "      <th>min</th>\n",
       "      <td>0.000000</td>\n",
       "      <td>0.000000e+00</td>\n",
       "      <td>0.000000e+00</td>\n",
       "      <td>0.000000</td>\n",
       "      <td>0.0</td>\n",
       "      <td>0.000000</td>\n",
       "      <td>0.000000</td>\n",
       "      <td>0.000000</td>\n",
       "      <td>0.000000</td>\n",
       "      <td>0.000000</td>\n",
       "      <td>...</td>\n",
       "      <td>0.000000</td>\n",
       "      <td>0.000000</td>\n",
       "      <td>0.0</td>\n",
       "      <td>0.000000</td>\n",
       "      <td>0.000000</td>\n",
       "      <td>0.000000</td>\n",
       "      <td>0.000000</td>\n",
       "      <td>0.000000</td>\n",
       "      <td>0.000000</td>\n",
       "      <td>0.000000</td>\n",
       "    </tr>\n",
       "    <tr>\n",
       "      <th>25%</th>\n",
       "      <td>0.000000</td>\n",
       "      <td>1.410000e+02</td>\n",
       "      <td>8.800000e+01</td>\n",
       "      <td>0.000000</td>\n",
       "      <td>0.0</td>\n",
       "      <td>0.000000</td>\n",
       "      <td>0.000000</td>\n",
       "      <td>0.000000</td>\n",
       "      <td>0.000000</td>\n",
       "      <td>0.000000</td>\n",
       "      <td>...</td>\n",
       "      <td>0.000000</td>\n",
       "      <td>0.000000</td>\n",
       "      <td>0.0</td>\n",
       "      <td>0.000000</td>\n",
       "      <td>0.000000</td>\n",
       "      <td>0.000000</td>\n",
       "      <td>0.000000</td>\n",
       "      <td>0.000000</td>\n",
       "      <td>1.000000</td>\n",
       "      <td>0.000000</td>\n",
       "    </tr>\n",
       "    <tr>\n",
       "      <th>50%</th>\n",
       "      <td>0.000000</td>\n",
       "      <td>2.350000e+02</td>\n",
       "      <td>3.730000e+02</td>\n",
       "      <td>0.000000</td>\n",
       "      <td>0.0</td>\n",
       "      <td>0.000000</td>\n",
       "      <td>0.000000</td>\n",
       "      <td>0.000000</td>\n",
       "      <td>1.000000</td>\n",
       "      <td>0.000000</td>\n",
       "      <td>...</td>\n",
       "      <td>0.000000</td>\n",
       "      <td>0.000000</td>\n",
       "      <td>0.0</td>\n",
       "      <td>0.000000</td>\n",
       "      <td>0.000000</td>\n",
       "      <td>0.000000</td>\n",
       "      <td>0.000000</td>\n",
       "      <td>0.000000</td>\n",
       "      <td>1.000000</td>\n",
       "      <td>0.000000</td>\n",
       "    </tr>\n",
       "    <tr>\n",
       "      <th>75%</th>\n",
       "      <td>0.000000</td>\n",
       "      <td>3.270000e+02</td>\n",
       "      <td>2.073000e+03</td>\n",
       "      <td>0.000000</td>\n",
       "      <td>0.0</td>\n",
       "      <td>0.000000</td>\n",
       "      <td>0.000000</td>\n",
       "      <td>0.000000</td>\n",
       "      <td>1.000000</td>\n",
       "      <td>0.000000</td>\n",
       "      <td>...</td>\n",
       "      <td>0.000000</td>\n",
       "      <td>0.000000</td>\n",
       "      <td>0.0</td>\n",
       "      <td>0.000000</td>\n",
       "      <td>0.000000</td>\n",
       "      <td>0.000000</td>\n",
       "      <td>0.000000</td>\n",
       "      <td>0.000000</td>\n",
       "      <td>1.000000</td>\n",
       "      <td>0.000000</td>\n",
       "    </tr>\n",
       "    <tr>\n",
       "      <th>max</th>\n",
       "      <td>40504.000000</td>\n",
       "      <td>8.958152e+07</td>\n",
       "      <td>7.028652e+06</td>\n",
       "      <td>1.000000</td>\n",
       "      <td>0.0</td>\n",
       "      <td>3.000000</td>\n",
       "      <td>77.000000</td>\n",
       "      <td>5.000000</td>\n",
       "      <td>1.000000</td>\n",
       "      <td>7479.000000</td>\n",
       "      <td>...</td>\n",
       "      <td>1.000000</td>\n",
       "      <td>1.000000</td>\n",
       "      <td>0.0</td>\n",
       "      <td>1.000000</td>\n",
       "      <td>1.000000</td>\n",
       "      <td>1.000000</td>\n",
       "      <td>1.000000</td>\n",
       "      <td>1.000000</td>\n",
       "      <td>1.000000</td>\n",
       "      <td>1.000000</td>\n",
       "    </tr>\n",
       "  </tbody>\n",
       "</table>\n",
       "<p>8 rows × 121 columns</p>\n",
       "</div>"
      ],
      "text/plain": [
       "           duration     src_bytes     dst_bytes          land  wrong_fragment  \\\n",
       "count  68338.000000  6.833800e+04  6.833800e+04  68338.000000         68338.0   \n",
       "mean     175.355307  1.742256e+04  5.457972e+03      0.000102             0.0   \n",
       "std     1323.789323  4.415764e+05  1.003994e+05      0.010120             0.0   \n",
       "min        0.000000  0.000000e+00  0.000000e+00      0.000000             0.0   \n",
       "25%        0.000000  1.410000e+02  8.800000e+01      0.000000             0.0   \n",
       "50%        0.000000  2.350000e+02  3.730000e+02      0.000000             0.0   \n",
       "75%        0.000000  3.270000e+02  2.073000e+03      0.000000             0.0   \n",
       "max    40504.000000  8.958152e+07  7.028652e+06      1.000000             0.0   \n",
       "\n",
       "             urgent           hot  num_failed_logins     logged_in  \\\n",
       "count  68338.000000  68338.000000       68338.000000  68338.000000   \n",
       "mean       0.000190      0.348649           0.002180      0.713600   \n",
       "std        0.019126      2.901707           0.059345      0.452082   \n",
       "min        0.000000      0.000000           0.000000      0.000000   \n",
       "25%        0.000000      0.000000           0.000000      0.000000   \n",
       "50%        0.000000      0.000000           0.000000      1.000000   \n",
       "75%        0.000000      0.000000           0.000000      1.000000   \n",
       "max        3.000000     77.000000           5.000000      1.000000   \n",
       "\n",
       "       num_compromised      ...            flagREJ      flagRSTO  flagRSTOS0  \\\n",
       "count     68338.000000      ...       68338.000000  68338.000000     68338.0   \n",
       "mean          0.500819      ...           0.039407      0.003878         0.0   \n",
       "std          32.504604      ...           0.194563      0.062151         0.0   \n",
       "min           0.000000      ...           0.000000      0.000000         0.0   \n",
       "25%           0.000000      ...           0.000000      0.000000         0.0   \n",
       "50%           0.000000      ...           0.000000      0.000000         0.0   \n",
       "75%           0.000000      ...           0.000000      0.000000         0.0   \n",
       "max        7479.000000      ...           1.000000      1.000000         0.0   \n",
       "\n",
       "           flagRSTR        flagS0        flagS1        flagS2        flagS3  \\\n",
       "count  68338.000000  68338.000000  68338.000000  68338.000000  68338.000000   \n",
       "mean       0.002210      0.005180      0.005297      0.001756      0.000702   \n",
       "std        0.046955      0.071787      0.072589      0.041868      0.026494   \n",
       "min        0.000000      0.000000      0.000000      0.000000      0.000000   \n",
       "25%        0.000000      0.000000      0.000000      0.000000      0.000000   \n",
       "50%        0.000000      0.000000      0.000000      0.000000      0.000000   \n",
       "75%        0.000000      0.000000      0.000000      0.000000      0.000000   \n",
       "max        1.000000      1.000000      1.000000      1.000000      1.000000   \n",
       "\n",
       "             flagSF        flagSH  \n",
       "count  68338.000000  68338.000000  \n",
       "mean       0.941321      0.000088  \n",
       "std        0.235024      0.009370  \n",
       "min        0.000000      0.000000  \n",
       "25%        1.000000      0.000000  \n",
       "50%        1.000000      0.000000  \n",
       "75%        1.000000      0.000000  \n",
       "max        1.000000      1.000000  \n",
       "\n",
       "[8 rows x 121 columns]"
      ]
     },
     "execution_count": 62,
     "metadata": {},
     "output_type": "execute_result"
    }
   ],
   "source": [
    "df_r2l_train.describe()"
   ]
  },
  {
   "cell_type": "code",
   "execution_count": 63,
   "metadata": {},
   "outputs": [
    {
     "name": "stderr",
     "output_type": "stream",
     "text": [
      "C:\\Users\\anjineyulu\\AppData\\Local\\Continuum\\anaconda3\\lib\\site-packages\\sklearn\\preprocessing\\data.py:625: DataConversionWarning: Data with input dtype int64, float64 were all converted to float64 by StandardScaler.\n",
      "  return self.partial_fit(X, y)\n",
      "C:\\Users\\anjineyulu\\AppData\\Local\\Continuum\\anaconda3\\lib\\site-packages\\ipykernel_launcher.py:3: DataConversionWarning: Data with input dtype int64, float64 were all converted to float64 by StandardScaler.\n",
      "  This is separate from the ipykernel package so we can avoid doing imports until\n",
      "C:\\Users\\anjineyulu\\AppData\\Local\\Continuum\\anaconda3\\lib\\site-packages\\sklearn\\preprocessing\\data.py:625: DataConversionWarning: Data with input dtype int64, float64 were all converted to float64 by StandardScaler.\n",
      "  return self.partial_fit(X, y)\n",
      "C:\\Users\\anjineyulu\\AppData\\Local\\Continuum\\anaconda3\\lib\\site-packages\\ipykernel_launcher.py:5: DataConversionWarning: Data with input dtype int64, float64 were all converted to float64 by StandardScaler.\n",
      "  \"\"\"\n",
      "C:\\Users\\anjineyulu\\AppData\\Local\\Continuum\\anaconda3\\lib\\site-packages\\sklearn\\preprocessing\\data.py:625: DataConversionWarning: Data with input dtype int64, float64 were all converted to float64 by StandardScaler.\n",
      "  return self.partial_fit(X, y)\n",
      "C:\\Users\\anjineyulu\\AppData\\Local\\Continuum\\anaconda3\\lib\\site-packages\\ipykernel_launcher.py:7: DataConversionWarning: Data with input dtype int64, float64 were all converted to float64 by StandardScaler.\n",
      "  import sys\n",
      "C:\\Users\\anjineyulu\\AppData\\Local\\Continuum\\anaconda3\\lib\\site-packages\\sklearn\\preprocessing\\data.py:625: DataConversionWarning: Data with input dtype int64, float64 were all converted to float64 by StandardScaler.\n",
      "  return self.partial_fit(X, y)\n",
      "C:\\Users\\anjineyulu\\AppData\\Local\\Continuum\\anaconda3\\lib\\site-packages\\ipykernel_launcher.py:9: DataConversionWarning: Data with input dtype int64, float64 were all converted to float64 by StandardScaler.\n",
      "  if __name__ == '__main__':\n",
      "C:\\Users\\anjineyulu\\AppData\\Local\\Continuum\\anaconda3\\lib\\site-packages\\sklearn\\preprocessing\\data.py:625: DataConversionWarning: Data with input dtype int64, float64 were all converted to float64 by StandardScaler.\n",
      "  return self.partial_fit(X, y)\n",
      "C:\\Users\\anjineyulu\\AppData\\Local\\Continuum\\anaconda3\\lib\\site-packages\\ipykernel_launcher.py:12: DataConversionWarning: Data with input dtype int64, float64 were all converted to float64 by StandardScaler.\n",
      "  if sys.path[0] == '':\n",
      "C:\\Users\\anjineyulu\\AppData\\Local\\Continuum\\anaconda3\\lib\\site-packages\\sklearn\\preprocessing\\data.py:625: DataConversionWarning: Data with input dtype int64, float64 were all converted to float64 by StandardScaler.\n",
      "  return self.partial_fit(X, y)\n",
      "C:\\Users\\anjineyulu\\AppData\\Local\\Continuum\\anaconda3\\lib\\site-packages\\ipykernel_launcher.py:14: DataConversionWarning: Data with input dtype int64, float64 were all converted to float64 by StandardScaler.\n",
      "  \n",
      "C:\\Users\\anjineyulu\\AppData\\Local\\Continuum\\anaconda3\\lib\\site-packages\\sklearn\\preprocessing\\data.py:625: DataConversionWarning: Data with input dtype int64, float64 were all converted to float64 by StandardScaler.\n",
      "  return self.partial_fit(X, y)\n",
      "C:\\Users\\anjineyulu\\AppData\\Local\\Continuum\\anaconda3\\lib\\site-packages\\ipykernel_launcher.py:16: DataConversionWarning: Data with input dtype int64, float64 were all converted to float64 by StandardScaler.\n",
      "  app.launch_new_instance()\n",
      "C:\\Users\\anjineyulu\\AppData\\Local\\Continuum\\anaconda3\\lib\\site-packages\\sklearn\\preprocessing\\data.py:625: DataConversionWarning: Data with input dtype int64, float64 were all converted to float64 by StandardScaler.\n",
      "  return self.partial_fit(X, y)\n",
      "C:\\Users\\anjineyulu\\AppData\\Local\\Continuum\\anaconda3\\lib\\site-packages\\ipykernel_launcher.py:18: DataConversionWarning: Data with input dtype int64, float64 were all converted to float64 by StandardScaler.\n"
     ]
    }
   ],
   "source": [
    "from sklearn import preprocessing\n",
    "scaler1 = preprocessing.StandardScaler().fit(df_dos_train_x)\n",
    "df_dos_train_x=scaler1.transform(df_dos_train_x) \n",
    "scaler2 = preprocessing.StandardScaler().fit(df_probe_train_x)\n",
    "df_probe_train_x=scaler2.transform(df_probe_train_x) \n",
    "scaler3 = preprocessing.StandardScaler().fit(df_r2l_train_x)\n",
    "df_r2l_train_x=scaler3.transform(df_r2l_train_x) \n",
    "scaler4 = preprocessing.StandardScaler().fit(df_u2r_train_x)\n",
    "df_u2r_train_x=scaler4.transform(df_u2r_train_x) \n",
    "# test data\n",
    "scaler5 = preprocessing.StandardScaler().fit(df_dos_test_x)\n",
    "df_dos_test_x=scaler5.transform(df_dos_test_x) \n",
    "scaler6 = preprocessing.StandardScaler().fit(df_probe_test_x)\n",
    "df_probe_test_x=scaler6.transform(df_probe_test_x) \n",
    "scaler7 = preprocessing.StandardScaler().fit(df_r2l_test_x)\n",
    "df_r2l_test_x=scaler7.transform(df_r2l_test_x) \n",
    "scaler8 = preprocessing.StandardScaler().fit(df_u2r_test_x)\n",
    "df_u2r_test_x=scaler8.transform(df_u2r_test_x)"
   ]
  },
  {
   "cell_type": "code",
   "execution_count": 65,
   "metadata": {},
   "outputs": [
    {
     "data": {
      "text/plain": [
       "DecisionTreeClassifier(class_weight=None, criterion='gini', max_depth=None,\n",
       "            max_features=None, max_leaf_nodes=None,\n",
       "            min_impurity_decrease=0.0, min_impurity_split=None,\n",
       "            min_samples_leaf=1, min_samples_split=2,\n",
       "            min_weight_fraction_leaf=0.0, presort=False, random_state=None,\n",
       "            splitter='best')"
      ]
     },
     "execution_count": 65,
     "metadata": {},
     "output_type": "execute_result"
    }
   ],
   "source": [
    "from sklearn.tree import DecisionTreeClassifier\n",
    "dt_dos=DecisionTreeClassifier()\n",
    "dt_dos.fit(df_dos_train_x,df_dos_train_y.astype('int'))"
   ]
  },
  {
   "cell_type": "code",
   "execution_count": 66,
   "metadata": {},
   "outputs": [
    {
     "data": {
      "text/plain": [
       "0    67343\n",
       "1    45927\n",
       "Name: label, dtype: int64"
      ]
     },
     "execution_count": 66,
     "metadata": {},
     "output_type": "execute_result"
    }
   ],
   "source": [
    "df_dos_train_y.value_counts()"
   ]
  },
  {
   "cell_type": "code",
   "execution_count": 67,
   "metadata": {},
   "outputs": [],
   "source": [
    "y_dos_pred=dt_dos.predict(df_dos_test_x)"
   ]
  },
  {
   "cell_type": "code",
   "execution_count": 68,
   "metadata": {},
   "outputs": [
    {
     "data": {
      "text/html": [
       "<div>\n",
       "<style scoped>\n",
       "    .dataframe tbody tr th:only-of-type {\n",
       "        vertical-align: middle;\n",
       "    }\n",
       "\n",
       "    .dataframe tbody tr th {\n",
       "        vertical-align: top;\n",
       "    }\n",
       "\n",
       "    .dataframe thead th {\n",
       "        text-align: right;\n",
       "    }\n",
       "</style>\n",
       "<table border=\"1\" class=\"dataframe\">\n",
       "  <thead>\n",
       "    <tr style=\"text-align: right;\">\n",
       "      <th>Predicted attacks</th>\n",
       "      <th>0</th>\n",
       "      <th>1</th>\n",
       "    </tr>\n",
       "    <tr>\n",
       "      <th>Actual attacks</th>\n",
       "      <th></th>\n",
       "      <th></th>\n",
       "    </tr>\n",
       "  </thead>\n",
       "  <tbody>\n",
       "    <tr>\n",
       "      <th>0</th>\n",
       "      <td>9499</td>\n",
       "      <td>212</td>\n",
       "    </tr>\n",
       "    <tr>\n",
       "      <th>1</th>\n",
       "      <td>2830</td>\n",
       "      <td>4630</td>\n",
       "    </tr>\n",
       "  </tbody>\n",
       "</table>\n",
       "</div>"
      ],
      "text/plain": [
       "Predicted attacks     0     1\n",
       "Actual attacks               \n",
       "0                  9499   212\n",
       "1                  2830  4630"
      ]
     },
     "execution_count": 68,
     "metadata": {},
     "output_type": "execute_result"
    }
   ],
   "source": [
    "pd.crosstab(df_dos_test_y,y_dos_pred, rownames=['Actual attacks'], colnames=['Predicted attacks'])"
   ]
  },
  {
   "cell_type": "code",
   "execution_count": 72,
   "metadata": {},
   "outputs": [],
   "source": [
    "from sklearn.metrics import confusion_matrix\n",
    "cm=confusion_matrix(df_dos_test_y.astype('int'),y_dos_pred)"
   ]
  },
  {
   "cell_type": "code",
   "execution_count": 73,
   "metadata": {},
   "outputs": [
    {
     "data": {
      "image/png": "[encoded data removed]",
      "text/plain": [
       "<Figure size 432x288 with 1 Axes>"
      ]
     },
     "metadata": {},
     "output_type": "display_data"
    }
   ],
   "source": [
    "plt.clf()\n",
    "plt.imshow(cm, interpolation='nearest', cmap=plt.cm.Wistia)\n",
    "classNames = ['Negative','Positive']\n",
    "plt.ylabel('True label')\n",
    "plt.xlabel('Predicted label')\n",
    "tick_marks = np.arange(len(classNames))\n",
    "plt.xticks(tick_marks, classNames, rotation=45)\n",
    "plt.yticks(tick_marks, classNames)\n",
    "s = [['TN','FP'], ['FN', 'TP']]\n",
    "for i in range(2):\n",
    "    for j in range(2):\n",
    "        plt.text(j,i, str(s[i][j])+\" = \"+str(cm[i][j]))\n",
    "plt.show()"
   ]
  },
  {
   "cell_type": "code",
   "execution_count": 74,
   "metadata": {},
   "outputs": [],
   "source": [
    "from sklearn.tree import DecisionTreeClassifier\n",
    "dt_probe=DecisionTreeClassifier()\n",
    "dt_probe.fit(df_probe_train_x,df_probe_train_y.astype('int'))\n",
    "y_probe_pred=dt_probe.predict(df_probe_test_x)"
   ]
  },
  {
   "cell_type": "code",
   "execution_count": 75,
   "metadata": {},
   "outputs": [],
   "source": [
    "cm=confusion_matrix(df_probe_test_y.astype('int'),y_probe_pred)"
   ]
  },
  {
   "cell_type": "code",
   "execution_count": 76,
   "metadata": {},
   "outputs": [
    {
     "data": {
      "image/png": "[encoded data removed]",
      "text/plain": [
       "<Figure size 432x288 with 1 Axes>"
      ]
     },
     "metadata": {},
     "output_type": "display_data"
    }
   ],
   "source": [
    "plt.clf()\n",
    "plt.imshow(cm, interpolation='nearest', cmap=plt.cm.Wistia)\n",
    "classNames = ['Negative','Positive']\n",
    "plt.ylabel('True label')\n",
    "plt.xlabel('Predicted label')\n",
    "tick_marks = np.arange(len(classNames))\n",
    "plt.xticks(tick_marks, classNames, rotation=45)\n",
    "plt.yticks(tick_marks, classNames)\n",
    "s = [['TN','FP'], ['FN', 'TP']]\n",
    "for i in range(2):\n",
    "    for j in range(2):\n",
    "        plt.text(j,i, str(s[i][j])+\" = \"+str(cm[i][j]))\n",
    "plt.show()"
   ]
  },
  {
   "cell_type": "code",
   "execution_count": 77,
   "metadata": {},
   "outputs": [],
   "source": [
    "dt_r2l=DecisionTreeClassifier()\n",
    "dt_r2l.fit(df_r2l_train_x,df_r2l_train_y.astype('int'))\n",
    "y_r2l_pred=dt_r2l.predict(df_r2l_test_x)"
   ]
  },
  {
   "cell_type": "code",
   "execution_count": 78,
   "metadata": {},
   "outputs": [],
   "source": [
    "cm=confusion_matrix(df_r2l_test_y.astype('int'),y_r2l_pred)"
   ]
  },
  {
   "cell_type": "code",
   "execution_count": 79,
   "metadata": {},
   "outputs": [
    {
     "data": {
      "image/png": "[encoded data removed]",
      "text/plain": [
       "<Figure size 432x288 with 1 Axes>"
      ]
     },
     "metadata": {},
     "output_type": "display_data"
    }
   ],
   "source": [
    "plt.clf()\n",
    "plt.imshow(cm, interpolation='nearest', cmap=plt.cm.Wistia)\n",
    "classNames = ['Negative','Positive']\n",
    "plt.ylabel('True label')\n",
    "plt.xlabel('Predicted label')\n",
    "tick_marks = np.arange(len(classNames))\n",
    "plt.xticks(tick_marks, classNames, rotation=45)\n",
    "plt.yticks(tick_marks, classNames)\n",
    "s = [['TN','FP'], ['FN', 'TP']]\n",
    "for i in range(2):\n",
    "    for j in range(2):\n",
    "        plt.text(j,i, str(s[i][j])+\" = \"+str(cm[i][j]))\n",
    "plt.show()"
   ]
  },
  {
   "cell_type": "code",
   "execution_count": 80,
   "metadata": {},
   "outputs": [],
   "source": [
    "dt_u2r=DecisionTreeClassifier()\n",
    "dt_u2r.fit(df_u2r_train_x,df_u2r_train_y.astype('int'))\n",
    "y_u2r_pred=dt_u2r.predict(df_u2r_test_x)"
   ]
  },
  {
   "cell_type": "code",
   "execution_count": 81,
   "metadata": {},
   "outputs": [],
   "source": [
    "cm=confusion_matrix(df_u2r_test_y.astype('int'),y_u2r_pred)"
   ]
  },
  {
   "cell_type": "code",
   "execution_count": 82,
   "metadata": {},
   "outputs": [
    {
     "data": {
      "image/png": "[encoded data removed]",
      "text/plain": [
       "<Figure size 432x288 with 1 Axes>"
      ]
     },
     "metadata": {},
     "output_type": "display_data"
    }
   ],
   "source": [
    "plt.clf()\n",
    "plt.imshow(cm, interpolation='nearest', cmap=plt.cm.Wistia)\n",
    "classNames = ['Negative','Positive']\n",
    "plt.ylabel('True label')\n",
    "plt.xlabel('Predicted label')\n",
    "tick_marks = np.arange(len(classNames))\n",
    "plt.xticks(tick_marks, classNames, rotation=45)\n",
    "plt.yticks(tick_marks, classNames)\n",
    "s = [['TN','FP'], ['FN', 'TP']]\n",
    "for i in range(2):\n",
    "    for j in range(2):\n",
    "        plt.text(j,i, str(s[i][j])+\" = \"+str(cm[i][j]))\n",
    "plt.show()"
   ]
  },
  {
   "cell_type": "code",
   "execution_count": 86,
   "metadata": {},
   "outputs": [
    {
     "name": "stdout",
     "output_type": "stream",
     "text": [
      "Accuracy: 0.99651 (+/- 0.00281)\n",
      "Precision: 0.99506 (+/- 0.00461)\n",
      "Recall: 0.99665 (+/- 0.00468)\n",
      "F-measure: 0.99605 (+/- 0.00341)\n"
     ]
    }
   ],
   "source": [
    "from sklearn.model_selection import cross_val_score\n",
    "from sklearn import metrics\n",
    "accuracy = cross_val_score(dt_dos,df_dos_test_x,df_dos_test_y.astype('int'), cv=10, scoring='accuracy')\n",
    "print(\"Accuracy: %0.5f (+/- %0.5f)\" % (accuracy.mean(), accuracy.std() * 2))\n",
    "precision = cross_val_score(dt_dos,df_dos_test_x,df_dos_test_y.astype('int'), cv=10, scoring='precision')\n",
    "print(\"Precision: %0.5f (+/- %0.5f)\" % (precision.mean(), precision.std() * 2))\n",
    "recall = cross_val_score(dt_dos,df_dos_test_x,df_dos_test_y.astype('int'), cv=10, scoring='recall')\n",
    "print(\"Recall: %0.5f (+/- %0.5f)\" % (recall.mean(), recall.std() * 2))\n",
    "f = cross_val_score(dt_dos,df_dos_test_x,df_dos_test_y.astype('int'), cv=10, scoring='f1')\n",
    "print(\"F-measure: %0.5f (+/- %0.5f)\" % (f.mean(), f.std() * 2))"
   ]
  },
  {
   "cell_type": "code",
   "execution_count": 88,
   "metadata": {},
   "outputs": [
    {
     "name": "stdout",
     "output_type": "stream",
     "text": [
      "<class 'pandas.core.series.Series'>\n"
     ]
    }
   ],
   "source": [
    "print(type(df_dos_test_y))"
   ]
  },
  {
   "cell_type": "code",
   "execution_count": 94,
   "metadata": {},
   "outputs": [
    {
     "name": "stderr",
     "output_type": "stream",
     "text": [
      "C:\\Users\\anjineyulu\\AppData\\Local\\Continuum\\anaconda3\\lib\\site-packages\\pandas\\core\\generic.py:5886: SettingWithCopyWarning: \n",
      "A value is trying to be set on a copy of a slice from a DataFrame\n",
      "\n",
      "See the caveats in the documentation: http://pandas.pydata.org/pandas-docs/stable/indexing.html#indexing-view-versus-copy\n",
      "  self._update_inplace(new_data)\n"
     ]
    }
   ],
   "source": [
    "df_probe_test_y.replace(to_replace =3, \n",
    "                 value =1,inplace=True) "
   ]
  },
  {
   "cell_type": "code",
   "execution_count": 95,
   "metadata": {},
   "outputs": [
    {
     "name": "stdout",
     "output_type": "stream",
     "text": [
      "Accuracy: 0.99571 (+/- 0.00441)\n",
      "Precision: 0.99131 (+/- 0.01133)\n",
      "Recall: 0.98885 (+/- 0.00982)\n",
      "F-measure: 0.98905 (+/- 0.00906)\n"
     ]
    }
   ],
   "source": [
    "accuracy = cross_val_score(dt_probe,df_probe_test_x,df_probe_test_y.astype('int'), cv=10, scoring='accuracy')\n",
    "print(\"Accuracy: %0.5f (+/- %0.5f)\" % (accuracy.mean(), accuracy.std() * 2))\n",
    "precision = cross_val_score(dt_probe,df_probe_test_x,df_probe_test_y.astype('int'), cv=10, scoring='precision')\n",
    "print(\"Precision: %0.5f (+/- %0.5f)\" % (precision.mean(), precision.std() * 2))\n",
    "recall = cross_val_score(dt_probe,df_probe_test_x,df_probe_test_y.astype('int'), cv=10, scoring='recall')\n",
    "print(\"Recall: %0.5f (+/- %0.5f)\" % (recall.mean(), recall.std() * 2))\n",
    "f = cross_val_score(dt_probe,df_probe_test_x,df_probe_test_y.astype('int'), cv=10, scoring='f1')\n",
    "print(\"F-measure: %0.5f (+/- %0.5f)\" % (f.mean(), f.std() * 2))"
   ]
  },
  {
   "cell_type": "code",
   "execution_count": 107,
   "metadata": {},
   "outputs": [
    {
     "name": "stderr",
     "output_type": "stream",
     "text": [
      "C:\\Users\\anjineyulu\\AppData\\Local\\Continuum\\anaconda3\\lib\\site-packages\\pandas\\core\\generic.py:5886: SettingWithCopyWarning: \n",
      "A value is trying to be set on a copy of a slice from a DataFrame\n",
      "\n",
      "See the caveats in the documentation: http://pandas.pydata.org/pandas-docs/stable/indexing.html#indexing-view-versus-copy\n",
      "  self._update_inplace(new_data)\n"
     ]
    }
   ],
   "source": [
    "df_r2l_test_y.replace(to_replace =2, \n",
    "                 value =1,inplace=True) "
   ]
  },
  {
   "cell_type": "code",
   "execution_count": 108,
   "metadata": {},
   "outputs": [
    {
     "name": "stdout",
     "output_type": "stream",
     "text": [
      "Accuracy: 0.97967 (+/- 0.01060)\n",
      "Precision: 0.95832 (+/- 0.03059)\n",
      "Recall: 0.95251 (+/- 0.01989)\n",
      "F-measure: 0.95495 (+/- 0.01992)\n"
     ]
    }
   ],
   "source": [
    "accuracy = cross_val_score(dt_r2l,df_r2l_test_x,df_r2l_test_y.astype('int'), cv=10, scoring='accuracy')\n",
    "print(\"Accuracy: %0.5f (+/- %0.5f)\" % (accuracy.mean(), accuracy.std() * 2))\n",
    "precision = cross_val_score(dt_r2l,df_r2l_test_x,df_r2l_test_y.astype('int'), cv=10, scoring='precision')\n",
    "print(\"Precision: %0.5f (+/- %0.5f)\" % (precision.mean(), precision.std() * 2))\n",
    "recall = cross_val_score(dt_r2l,df_r2l_test_x,df_r2l_test_y.astype('int'), cv=10, scoring='recall')\n",
    "print(\"Recall: %0.5f (+/- %0.5f)\" % (recall.mean(), recall.std() * 2))\n",
    "f = cross_val_score(dt_r2l,df_r2l_test_x,df_r2l_test_y.astype('int'), cv=10, scoring='f1')\n",
    "print(\"F-measure: %0.5f (+/- %0.5f)\" % (f.mean(), f.std() * 2))"
   ]
  },
  {
   "cell_type": "code",
   "execution_count": 105,
   "metadata": {},
   "outputs": [
    {
     "name": "stderr",
     "output_type": "stream",
     "text": [
      "C:\\Users\\anjineyulu\\AppData\\Local\\Continuum\\anaconda3\\lib\\site-packages\\pandas\\core\\generic.py:5886: SettingWithCopyWarning: \n",
      "A value is trying to be set on a copy of a slice from a DataFrame\n",
      "\n",
      "See the caveats in the documentation: http://pandas.pydata.org/pandas-docs/stable/indexing.html#indexing-view-versus-copy\n",
      "  self._update_inplace(new_data)\n"
     ]
    }
   ],
   "source": [
    "df_u2r_test_y.replace(to_replace =4, \n",
    "                 value =1,inplace=True) "
   ]
  },
  {
   "cell_type": "code",
   "execution_count": 106,
   "metadata": {},
   "outputs": [
    {
     "name": "stdout",
     "output_type": "stream",
     "text": [
      "Accuracy: 0.99683 (+/- 0.00309)\n",
      "Precision: 0.80147 (+/- 0.25968)\n",
      "Recall: 0.83571 (+/- 0.21344)\n",
      "F-measure: 0.80973 (+/- 0.12163)\n"
     ]
    }
   ],
   "source": [
    "accuracy = cross_val_score(dt_u2r,df_u2r_test_x,df_u2r_test_y.astype('int'), cv=10, scoring='accuracy')\n",
    "print(\"Accuracy: %0.5f (+/- %0.5f)\" % (accuracy.mean(), accuracy.std() * 2))\n",
    "precision = cross_val_score(dt_u2r,df_u2r_test_x,df_u2r_test_y.astype('int'), cv=10, scoring='precision')\n",
    "print(\"Precision: %0.5f (+/- %0.5f)\" % (precision.mean(), precision.std() * 2))\n",
    "recall = cross_val_score(dt_u2r,df_u2r_test_x,df_u2r_test_y.astype('int'), cv=10, scoring='recall')\n",
    "print(\"Recall: %0.5f (+/- %0.5f)\" % (recall.mean(), recall.std() * 2))\n",
    "f = cross_val_score(dt_u2r,df_u2r_test_x,df_u2r_test_y.astype('int'), cv=10, scoring='f1')\n",
    "print(\"F-measure: %0.5f (+/- %0.5f)\" % (f.mean(), f.std() * 2))"
   ]
  },
  {
   "cell_type": "code",
   "execution_count": null,
   "metadata": {},
   "outputs": [],
   "source": []
  }
 ],
 "metadata": {
  "kernelspec": {
   "display_name": "Python 3",
   "language": "python",
   "name": "python3"
  },
  "language_info": {
   "codemirror_mode": {
    "name": "ipython",
    "version": 3
   },
   "file_extension": ".py",
   "mimetype": "text/x-python",
   "name": "python",
   "nbconvert_exporter": "python",
   "pygments_lexer": "ipython3",
   "version": "3.6.5"
  }
 },
 "nbformat": 4,
 "nbformat_minor": 2
}
